{
 "cells": [
  {
   "attachments": {},
   "cell_type": "markdown",
   "metadata": {},
   "source": [
    "# Numpy III"
   ]
  },
  {
   "cell_type": "code",
   "execution_count": 2,
   "metadata": {},
   "outputs": [],
   "source": [
    "import numpy as np\n",
    "import pandas as pd"
   ]
  },
  {
   "attachments": {},
   "cell_type": "markdown",
   "metadata": {},
   "source": [
    "1. Cread un array de tres dimensiones de 2 matrices, 3 filas y 5 columnas cuyos valores solo tengan 1 decimales."
   ]
  },
  {
   "cell_type": "code",
   "execution_count": 3,
   "metadata": {},
   "outputs": [
    {
     "data": {
      "text/plain": [
       "array([[[0.5, 0.3, 0.7, 0.6, 0.8],\n",
       "        [0.8, 0.9, 0.6, 0.9, 0.2],\n",
       "        [0.2, 0.3, 0.6, 0.1, 0.3]],\n",
       "\n",
       "       [[0.6, 1. , 0.4, 1. , 0.7],\n",
       "        [0.8, 0.2, 0.6, 0.7, 0.5],\n",
       "        [0.9, 0.3, 0.8, 0. , 1. ]]])"
      ]
     },
     "execution_count": 3,
     "metadata": {},
     "output_type": "execute_result"
    }
   ],
   "source": [
    "array = np.round(np.random.rand(2,3,5), 1)\n",
    "array"
   ]
  },
  {
   "attachments": {},
   "cell_type": "markdown",
   "metadata": {},
   "source": [
    "2. Calculad la media del array y almacenarlos en una variable. Redondead a un decimal."
   ]
  },
  {
   "cell_type": "code",
   "execution_count": 4,
   "metadata": {},
   "outputs": [
    {
     "data": {
      "text/plain": [
       "0.6"
      ]
     },
     "execution_count": 4,
     "metadata": {},
     "output_type": "execute_result"
    }
   ],
   "source": [
    "media_arr = np.round(np.mean(array), 1)\n",
    "media_arr"
   ]
  },
  {
   "attachments": {},
   "cell_type": "markdown",
   "metadata": {},
   "source": [
    "3. Calculad el valor máximo del array y almacenarlos en una variable. Redondead a un decimal."
   ]
  },
  {
   "cell_type": "code",
   "execution_count": 5,
   "metadata": {},
   "outputs": [
    {
     "data": {
      "text/plain": [
       "1.0"
      ]
     },
     "execution_count": 5,
     "metadata": {},
     "output_type": "execute_result"
    }
   ],
   "source": [
    "max_arr = np.round(np.max(array),1)\n",
    "max_arr"
   ]
  },
  {
   "attachments": {},
   "cell_type": "markdown",
   "metadata": {},
   "source": [
    "4. Calculad el valor mínimo del array y almacenarlos en una variable. Redondead a un decimal."
   ]
  },
  {
   "cell_type": "code",
   "execution_count": 6,
   "metadata": {},
   "outputs": [
    {
     "data": {
      "text/plain": [
       "0.0"
      ]
     },
     "execution_count": 6,
     "metadata": {},
     "output_type": "execute_result"
    }
   ],
   "source": [
    "min_arr = np.round(np.min(array),1)\n",
    "min_arr"
   ]
  },
  {
   "attachments": {},
   "cell_type": "markdown",
   "metadata": {},
   "source": [
    "5. Cread un array vacío con la misma forma y dimensiones que el array creado anteriormente."
   ]
  },
  {
   "cell_type": "code",
   "execution_count": 7,
   "metadata": {},
   "outputs": [
    {
     "data": {
      "text/plain": [
       "array([[['', '', '', '', ''],\n",
       "        ['', '', '', '', ''],\n",
       "        ['', '', '', '', '']],\n",
       "\n",
       "       [['', '', '', '', ''],\n",
       "        ['', '', '', '', ''],\n",
       "        ['', '', '', '', '']]], dtype='<U1')"
      ]
     },
     "execution_count": 7,
     "metadata": {},
     "output_type": "execute_result"
    }
   ],
   "source": [
    "arr_vacio = np.empty((2,3,5), dtype = str)\n",
    "arr_vacio"
   ]
  },
  {
   "attachments": {},
   "cell_type": "markdown",
   "metadata": {},
   "source": [
    "Vamos a reemplazar los valores de la matriz vacía que nos acabamos de crear pero basándonos en los valores del primer array bajo las siguientes condiciones:\n",
    "\n",
    "💡 Pista 💡 Tendréis que iterar por el array y cambiar los valores de la matriz vacía. Para eso tendremos que usar distintos condicionales.\n",
    "\n",
    "- Si el valor del array es igual que la media, se reemplaza por \"A\""
   ]
  },
  {
   "attachments": {},
   "cell_type": "markdown",
   "metadata": {},
   "source": [
    "- Si el valor del array es mayor que la media, se reemplaza por \"B\"."
   ]
  },
  {
   "attachments": {},
   "cell_type": "markdown",
   "metadata": {},
   "source": [
    "- Si el valor del array es menor que la media, se reemplaza por \"C\"."
   ]
  },
  {
   "attachments": {},
   "cell_type": "markdown",
   "metadata": {},
   "source": [
    "- Si el valor es igual que el máximo, se reemplaza por \"D\"."
   ]
  },
  {
   "attachments": {},
   "cell_type": "markdown",
   "metadata": {},
   "source": [
    "- Si el valor es igual que el mínimo, se reemplaza por \"E\".\n"
   ]
  },
  {
   "cell_type": "code",
   "execution_count": 8,
   "metadata": {},
   "outputs": [
    {
     "data": {
      "text/plain": [
       "(2, 3, 5)"
      ]
     },
     "execution_count": 8,
     "metadata": {},
     "output_type": "execute_result"
    }
   ],
   "source": [
    "array.shape"
   ]
  },
  {
   "cell_type": "code",
   "execution_count": 15,
   "metadata": {},
   "outputs": [],
   "source": [
    "# primero necesitamos iterar hasta llegar a los valores\n",
    "\n",
    "for m in range(array.shape[0]):\n",
    "    for f in range(array.shape[1]):\n",
    "        for c in range(array.shape[2]):\n",
    "            if array[m][f][c] == media_arr:\n",
    "                arr_vacio[m][f][c] = 'A'\n",
    "            elif array[m][f][c] > media_arr:\n",
    "                arr_vacio[m][f][c] = 'B'\n",
    "            elif array[m][f][c] < media_arr:\n",
    "                arr_vacio[m][f][c] = 'C'\n",
    "            elif array[m][f][c] == max_arr:\n",
    "                arr_vacio[m][f][c] = 'D'\n",
    "            elif array[m][f][c] == min_arr:\n",
    "                arr_vacio[m][f][c] = 'E'           \n",
    "                "
   ]
  },
  {
   "cell_type": "code",
   "execution_count": 16,
   "metadata": {},
   "outputs": [
    {
     "data": {
      "text/plain": [
       "array([[['C', 'C', 'B', 'A', 'B'],\n",
       "        ['B', 'B', 'A', 'B', 'C'],\n",
       "        ['C', 'C', 'A', 'C', 'C']],\n",
       "\n",
       "       [['A', 'B', 'C', 'B', 'B'],\n",
       "        ['B', 'C', 'A', 'B', 'C'],\n",
       "        ['B', 'C', 'B', 'C', 'B']]], dtype='<U1')"
      ]
     },
     "execution_count": 16,
     "metadata": {},
     "output_type": "execute_result"
    }
   ],
   "source": [
    "arr_vacio"
   ]
  },
  {
   "attachments": {},
   "cell_type": "markdown",
   "metadata": {},
   "source": [
    "6. Estupendo, tenemos un array con strings. Ahora realizaremos un ejercicio similar al anterior, pero en este caso nos crearemos un array vacío unidimensional de 30 elementos. Al final de este ejercicio acabaremos teniendo un array de tres dimensiones con la misma forma que el primero que nos creamos.\n",
    "En este caso:"
   ]
  },
  {
   "cell_type": "code",
   "execution_count": 33,
   "metadata": {},
   "outputs": [
    {
     "data": {
      "text/plain": [
       "array([4602678819172646912, 4599075939470750515, 4604480259023595110,\n",
       "       4603579539098121011, 4605380978949069210, 4605380978949069210,\n",
       "       4606281698874543309, 4603579539098121011, 4606281698874543309,\n",
       "       4596373779694328218, 4596373779694328218, 4599075939470750515,\n",
       "       4603579539098121011, 4591870180066957722, 4599075939470750515,\n",
       "       4603579539098121011, 4607182418800017408, 4600877379321698714,\n",
       "       4607182418800017408, 4604480259023595110, 4605380978949069210,\n",
       "       4596373779694328218, 4603579539098121011, 4604480259023595110,\n",
       "       4602678819172646912, 4606281698874543309, 4599075939470750515,\n",
       "       4605380978949069210,                   0, 4607182418800017408])"
      ]
     },
     "execution_count": 33,
     "metadata": {},
     "output_type": "execute_result"
    }
   ],
   "source": [
    "vacio2 = np.empty((30), dtype = int)\n",
    "vacio2"
   ]
  },
  {
   "attachments": {},
   "cell_type": "markdown",
   "metadata": {},
   "source": [
    "- Si el valor del array creado en el ejercicio anterior es \"A\" o \"B\" lo reemplazaremos por 1"
   ]
  },
  {
   "cell_type": "code",
   "execution_count": 18,
   "metadata": {},
   "outputs": [
    {
     "data": {
      "text/plain": [
       "array([[['C', 'C', 'B', 'A', 'B'],\n",
       "        ['B', 'B', 'A', 'B', 'C'],\n",
       "        ['C', 'C', 'A', 'C', 'C']],\n",
       "\n",
       "       [['A', 'B', 'C', 'B', 'B'],\n",
       "        ['B', 'C', 'A', 'B', 'C'],\n",
       "        ['B', 'C', 'B', 'C', 'B']]], dtype='<U1')"
      ]
     },
     "execution_count": 18,
     "metadata": {},
     "output_type": "execute_result"
    }
   ],
   "source": [
    "vacio1 = arr_vacio.copy()\n",
    "vacio1"
   ]
  },
  {
   "cell_type": "code",
   "execution_count": 47,
   "metadata": {},
   "outputs": [],
   "source": [
    "vacio3= vacio1.reshape(30)"
   ]
  },
  {
   "attachments": {},
   "cell_type": "markdown",
   "metadata": {},
   "source": [
    "- Si el valor del array creado en el ejercicio anterior es \"C\" o \"D\" lo reemplazaremos por 2"
   ]
  },
  {
   "attachments": {},
   "cell_type": "markdown",
   "metadata": {},
   "source": [
    "- Si el valor del array creado en el ejercicio anterior es \"E\" lo reemplazaremos por 3."
   ]
  },
  {
   "cell_type": "code",
   "execution_count": 41,
   "metadata": {},
   "outputs": [
    {
     "data": {
      "text/plain": [
       "30"
      ]
     },
     "execution_count": 41,
     "metadata": {},
     "output_type": "execute_result"
    }
   ],
   "source": [
    "vacio2.size"
   ]
  },
  {
   "cell_type": "code",
   "execution_count": 45,
   "metadata": {},
   "outputs": [
    {
     "data": {
      "text/plain": [
       "array([[['C', 'C', 'B', 'A', 'B'],\n",
       "        ['B', 'B', 'A', 'B', 'C'],\n",
       "        ['C', 'C', 'A', 'C', 'C']],\n",
       "\n",
       "       [['A', 'B', 'C', 'B', 'B'],\n",
       "        ['B', 'C', 'A', 'B', 'C'],\n",
       "        ['B', 'C', 'B', 'C', 'B']]], dtype='<U1')"
      ]
     },
     "execution_count": 45,
     "metadata": {},
     "output_type": "execute_result"
    }
   ],
   "source": [
    "vacio1"
   ]
  },
  {
   "cell_type": "code",
   "execution_count": 48,
   "metadata": {},
   "outputs": [],
   "source": [
    "for i in range(vacio2.shape[0]):\n",
    "    if vacio3[i] == 'A':\n",
    "        vacio2[i] = 1\n",
    "    elif vacio3[i] == 'B':\n",
    "        vacio2[i] = 1\n",
    "    elif vacio3[i] == 'C':\n",
    "        vacio2[i] = 2\n",
    "    elif vacio3[i] ==  'D':\n",
    "        vacio2[i] = 2\n",
    "    elif vacio3[i] == 'E':\n",
    "        vacio2[i] = 3"
   ]
  },
  {
   "cell_type": "code",
   "execution_count": 49,
   "metadata": {},
   "outputs": [
    {
     "data": {
      "text/plain": [
       "array([2, 2, 1, 1, 1, 1, 1, 1, 1, 2, 2, 2, 1, 2, 2, 1, 1, 2, 1, 1, 1, 2,\n",
       "       1, 1, 2, 1, 2, 1, 2, 1])"
      ]
     },
     "execution_count": 49,
     "metadata": {},
     "output_type": "execute_result"
    }
   ],
   "source": [
    "vacio2"
   ]
  },
  {
   "attachments": {},
   "cell_type": "markdown",
   "metadata": {},
   "source": [
    "Una vez que hayas reemplazado todos los valores cambiad la forma del array para que sea de tres dimensiones, con 2 matrices, 3 filas y 5 columnas."
   ]
  },
  {
   "cell_type": "code",
   "execution_count": 50,
   "metadata": {},
   "outputs": [
    {
     "data": {
      "text/plain": [
       "array([[[2, 2, 1, 1, 1],\n",
       "        [1, 1, 1, 1, 2],\n",
       "        [2, 2, 1, 2, 2]],\n",
       "\n",
       "       [[1, 1, 2, 1, 1],\n",
       "        [1, 2, 1, 1, 2],\n",
       "        [1, 2, 1, 2, 1]]])"
      ]
     },
     "execution_count": 50,
     "metadata": {},
     "output_type": "execute_result"
    }
   ],
   "source": [
    "vacio2_final = vacio2.reshape(2,3,5)\n",
    "vacio2_final"
   ]
  }
 ],
 "metadata": {
  "kernelspec": {
   "display_name": "adalabenv",
   "language": "python",
   "name": "python3"
  },
  "language_info": {
   "codemirror_mode": {
    "name": "ipython",
    "version": 3
   },
   "file_extension": ".py",
   "mimetype": "text/x-python",
   "name": "python",
   "nbconvert_exporter": "python",
   "pygments_lexer": "ipython3",
   "version": "3.10.9"
  },
  "orig_nbformat": 4
 },
 "nbformat": 4,
 "nbformat_minor": 2
}
