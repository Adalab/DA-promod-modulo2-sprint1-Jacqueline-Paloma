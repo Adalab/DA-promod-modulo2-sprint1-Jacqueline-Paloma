{
 "cells": [
  {
   "attachments": {},
   "cell_type": "markdown",
   "metadata": {},
   "source": [
    "Los objetivos de hoy son:\n",
    "\n",
    "1- Buscar un conjunto de datos a analizar:\n",
    "\n",
    "Se recomienda que el conjunto de datos a analizar tenga variables numéricas y categóricas. Ya que también se analizarán."
   ]
  },
  {
   "cell_type": "code",
   "execution_count": 2,
   "metadata": {},
   "outputs": [],
   "source": [
    "import pandas as pd\n",
    "import numpy as np"
   ]
  },
  {
   "cell_type": "code",
   "execution_count": 3,
   "metadata": {},
   "outputs": [
    {
     "data": {
      "text/html": [
       "<div>\n",
       "<style scoped>\n",
       "    .dataframe tbody tr th:only-of-type {\n",
       "        vertical-align: middle;\n",
       "    }\n",
       "\n",
       "    .dataframe tbody tr th {\n",
       "        vertical-align: top;\n",
       "    }\n",
       "\n",
       "    .dataframe thead th {\n",
       "        text-align: right;\n",
       "    }\n",
       "</style>\n",
       "<table border=\"1\" class=\"dataframe\">\n",
       "  <thead>\n",
       "    <tr style=\"text-align: right;\">\n",
       "      <th></th>\n",
       "      <th>age</th>\n",
       "      <th>job</th>\n",
       "      <th>marital</th>\n",
       "      <th>education</th>\n",
       "      <th>default</th>\n",
       "      <th>balance</th>\n",
       "      <th>housing</th>\n",
       "      <th>loan</th>\n",
       "      <th>contact</th>\n",
       "      <th>day</th>\n",
       "      <th>month</th>\n",
       "      <th>duration</th>\n",
       "      <th>campaign</th>\n",
       "      <th>pdays</th>\n",
       "      <th>previous</th>\n",
       "      <th>poutcome</th>\n",
       "      <th>y</th>\n",
       "    </tr>\n",
       "  </thead>\n",
       "  <tbody>\n",
       "    <tr>\n",
       "      <th>25198</th>\n",
       "      <td>36</td>\n",
       "      <td>management</td>\n",
       "      <td>married</td>\n",
       "      <td>secondary</td>\n",
       "      <td>no</td>\n",
       "      <td>-148</td>\n",
       "      <td>no</td>\n",
       "      <td>no</td>\n",
       "      <td>cellular</td>\n",
       "      <td>18</td>\n",
       "      <td>nov</td>\n",
       "      <td>144</td>\n",
       "      <td>2</td>\n",
       "      <td>-1</td>\n",
       "      <td>0</td>\n",
       "      <td>unknown</td>\n",
       "      <td>no</td>\n",
       "    </tr>\n",
       "    <tr>\n",
       "      <th>11774</th>\n",
       "      <td>40</td>\n",
       "      <td>technician</td>\n",
       "      <td>married</td>\n",
       "      <td>secondary</td>\n",
       "      <td>no</td>\n",
       "      <td>109</td>\n",
       "      <td>no</td>\n",
       "      <td>no</td>\n",
       "      <td>unknown</td>\n",
       "      <td>20</td>\n",
       "      <td>jun</td>\n",
       "      <td>402</td>\n",
       "      <td>22</td>\n",
       "      <td>-1</td>\n",
       "      <td>0</td>\n",
       "      <td>unknown</td>\n",
       "      <td>no</td>\n",
       "    </tr>\n",
       "    <tr>\n",
       "      <th>39306</th>\n",
       "      <td>49</td>\n",
       "      <td>admin.</td>\n",
       "      <td>married</td>\n",
       "      <td>secondary</td>\n",
       "      <td>no</td>\n",
       "      <td>880</td>\n",
       "      <td>yes</td>\n",
       "      <td>yes</td>\n",
       "      <td>cellular</td>\n",
       "      <td>18</td>\n",
       "      <td>may</td>\n",
       "      <td>22</td>\n",
       "      <td>3</td>\n",
       "      <td>-1</td>\n",
       "      <td>0</td>\n",
       "      <td>unknown</td>\n",
       "      <td>no</td>\n",
       "    </tr>\n",
       "  </tbody>\n",
       "</table>\n",
       "</div>"
      ],
      "text/plain": [
       "       age         job  marital  education default  balance housing loan  \\\n",
       "25198   36  management  married  secondary      no     -148      no   no   \n",
       "11774   40  technician  married  secondary      no      109      no   no   \n",
       "39306   49      admin.  married  secondary      no      880     yes  yes   \n",
       "\n",
       "        contact  day month  duration  campaign  pdays  previous poutcome   y  \n",
       "25198  cellular   18   nov       144         2     -1         0  unknown  no  \n",
       "11774   unknown   20   jun       402        22     -1         0  unknown  no  \n",
       "39306  cellular   18   may        22         3     -1         0  unknown  no  "
      ]
     },
     "execution_count": 3,
     "metadata": {},
     "output_type": "execute_result"
    }
   ],
   "source": [
    "df = pd.read_csv('../datos/bank-full.csv')\n",
    "df.sample(3)"
   ]
  },
  {
   "attachments": {},
   "cell_type": "markdown",
   "metadata": {},
   "source": [
    "2- Extraer los siguentes estadísiticos del conjunto de datos para varias de las variables disponibles:\n",
    "- Media\n",
    "- Desviación con respecto de la media\n",
    "- Varianza\n",
    "- Desviación típica\n",
    "- Moda\n",
    "- Mediana\n",
    "- Media ponderada\n",
    "- Robustez\n",
    "- Coeficiente de variación"
   ]
  },
  {
   "attachments": {},
   "cell_type": "markdown",
   "metadata": {},
   "source": [
    "Descripción de los usuarios segun la edad:"
   ]
  },
  {
   "cell_type": "code",
   "execution_count": 4,
   "metadata": {},
   "outputs": [],
   "source": [
    "media = df['age'].mean()\n",
    "desv_media = np.abs(df['age'] -media)\n",
    "var = df['age'].var()\n",
    "desv_tipica = df['age'].std()\n",
    "moda = df['age'].mode()[0]\n",
    "mediana = df['age'].median()\n",
    "coef_variacion = desv_tipica/media"
   ]
  },
  {
   "cell_type": "code",
   "execution_count": 5,
   "metadata": {},
   "outputs": [],
   "source": [
    "# creamos pesos aleatorios para poder hacer una media ponderada\n",
    "w = np.random.randint(0,100, df.shape[0])\n",
    "media_ponderada = np.average(df['age'], weights=w)"
   ]
  },
  {
   "cell_type": "code",
   "execution_count": 6,
   "metadata": {},
   "outputs": [],
   "source": [
    "# robustez = como se calcula ¿?"
   ]
  },
  {
   "cell_type": "code",
   "execution_count": 7,
   "metadata": {},
   "outputs": [
    {
     "name": "stdout",
     "output_type": "stream",
     "text": [
      "media = 40.93621021432837\n",
      "varianza = 112.75810728286069\n",
      "desviacion tipica = 10.618762040975431\n",
      "moda = 32\n",
      "mediana = 39.0\n",
      "coeficiente de variacion = 0.25939777974998485\n",
      "media ponderada = 40.9348802408664\n"
     ]
    }
   ],
   "source": [
    "print(f'media = {media}')\n",
    "print(f'varianza = {var}')\n",
    "print(f'desviacion tipica = {desv_tipica}')\n",
    "print(f'moda = {moda}')\n",
    "print(f'mediana = {mediana}')\n",
    "print(f'coeficiente de variacion = {coef_variacion}')\n",
    "print(f'media ponderada = {media_ponderada}')"
   ]
  },
  {
   "cell_type": "code",
   "execution_count": 8,
   "metadata": {},
   "outputs": [
    {
     "name": "stdout",
     "output_type": "stream",
     "text": [
      "desv_media = 0        17.06379\n",
      "1         3.06379\n",
      "2         7.93621\n",
      "3         6.06379\n",
      "4         7.93621\n",
      "           ...   \n",
      "45206    10.06379\n",
      "45207    30.06379\n",
      "45208    31.06379\n",
      "45209    16.06379\n",
      "45210     3.93621\n",
      "Name: age, Length: 45211, dtype: float64\n"
     ]
    }
   ],
   "source": [
    "print(f'desv_media = {desv_media}')"
   ]
  },
  {
   "attachments": {},
   "cell_type": "markdown",
   "metadata": {},
   "source": [
    "Descripción segun la duracion:"
   ]
  },
  {
   "attachments": {},
   "cell_type": "markdown",
   "metadata": {},
   "source": [
    "Con respecto al empleo:"
   ]
  },
  {
   "cell_type": "code",
   "execution_count": 9,
   "metadata": {},
   "outputs": [],
   "source": [
    "trabajos = df['job'].value_counts()\n",
    "df_empleo = pd.DataFrame(trabajos).T"
   ]
  },
  {
   "cell_type": "code",
   "execution_count": 10,
   "metadata": {},
   "outputs": [
    {
     "data": {
      "text/html": [
       "<div>\n",
       "<style scoped>\n",
       "    .dataframe tbody tr th:only-of-type {\n",
       "        vertical-align: middle;\n",
       "    }\n",
       "\n",
       "    .dataframe tbody tr th {\n",
       "        vertical-align: top;\n",
       "    }\n",
       "\n",
       "    .dataframe thead th {\n",
       "        text-align: right;\n",
       "    }\n",
       "</style>\n",
       "<table border=\"1\" class=\"dataframe\">\n",
       "  <thead>\n",
       "    <tr style=\"text-align: right;\">\n",
       "      <th></th>\n",
       "      <th>blue-collar</th>\n",
       "      <th>management</th>\n",
       "      <th>technician</th>\n",
       "      <th>admin.</th>\n",
       "      <th>services</th>\n",
       "      <th>retired</th>\n",
       "      <th>self-employed</th>\n",
       "      <th>entrepreneur</th>\n",
       "      <th>unemployed</th>\n",
       "      <th>housemaid</th>\n",
       "      <th>student</th>\n",
       "      <th>unknown</th>\n",
       "    </tr>\n",
       "  </thead>\n",
       "  <tbody>\n",
       "    <tr>\n",
       "      <th>job</th>\n",
       "      <td>9732</td>\n",
       "      <td>9458</td>\n",
       "      <td>7597</td>\n",
       "      <td>5171</td>\n",
       "      <td>4154</td>\n",
       "      <td>2264</td>\n",
       "      <td>1579</td>\n",
       "      <td>1487</td>\n",
       "      <td>1303</td>\n",
       "      <td>1240</td>\n",
       "      <td>938</td>\n",
       "      <td>288</td>\n",
       "    </tr>\n",
       "  </tbody>\n",
       "</table>\n",
       "</div>"
      ],
      "text/plain": [
       "     blue-collar  management  technician  admin.  services  retired  \\\n",
       "job         9732        9458        7597    5171      4154     2264   \n",
       "\n",
       "     self-employed  entrepreneur  unemployed  housemaid  student  unknown  \n",
       "job           1579          1487        1303       1240      938      288  "
      ]
     },
     "execution_count": 10,
     "metadata": {},
     "output_type": "execute_result"
    }
   ],
   "source": [
    "df_empleo"
   ]
  },
  {
   "attachments": {},
   "cell_type": "markdown",
   "metadata": {},
   "source": [
    "Datos segun duracion de la llamada:"
   ]
  },
  {
   "cell_type": "code",
   "execution_count": 13,
   "metadata": {},
   "outputs": [],
   "source": [
    "media2 = df['duration'].mean()\n",
    "desv_media2 = np.abs(df['duration'] -media)\n",
    "var2 = df['duration'].var()\n",
    "desv_tipica2 = df['duration'].std()\n",
    "moda2 = df['duration'].mode()[0]\n",
    "mediana2 = df['duration'].median()\n",
    "coef_variacion2 = desv_tipica2/media2\n",
    "media_ponderada2 = np.average(df['duration'], weights=w)\n",
    "maximo2 = df['duration'].max()\n",
    "minimo2 = df['duration'].min()"
   ]
  },
  {
   "cell_type": "code",
   "execution_count": 14,
   "metadata": {},
   "outputs": [
    {
     "name": "stdout",
     "output_type": "stream",
     "text": [
      "media = 258.1630797814691\n",
      "varianza = 66320.57409008514\n",
      "desviacion tipica = 257.52781226517095\n",
      "moda = 124\n",
      "mediana = 180.0\n",
      "coeficiente de variacion = 0.9975392782080386\n",
      "media ponderada = 258.77771176919964\n",
      "maximo = 4918\n",
      "minimo = 0\n"
     ]
    }
   ],
   "source": [
    "print(f'media = {media2}')\n",
    "print(f'varianza = {var2}')\n",
    "print(f'desviacion tipica = {desv_tipica2}')\n",
    "print(f'moda = {moda2}')\n",
    "print(f'mediana = {mediana2}')\n",
    "print(f'coeficiente de variacion = {coef_variacion2}')\n",
    "print(f'media ponderada = {media_ponderada2}')\n",
    "print(f'maximo = {maximo2}')\n",
    "print(f'minimo = {minimo2}')"
   ]
  },
  {
   "cell_type": "code",
   "execution_count": 54,
   "metadata": {},
   "outputs": [
    {
     "name": "stdout",
     "output_type": "stream",
     "text": [
      "desv_media = 0         220.06379\n",
      "1         110.06379\n",
      "2          35.06379\n",
      "3          51.06379\n",
      "4         157.06379\n",
      "            ...    \n",
      "45206     936.06379\n",
      "45207     415.06379\n",
      "45208    1086.06379\n",
      "45209     467.06379\n",
      "45210     320.06379\n",
      "Name: duration, Length: 45211, dtype: float64\n"
     ]
    }
   ],
   "source": [
    "print(f'desv_media = {desv_media2}')"
   ]
  },
  {
   "cell_type": "code",
   "execution_count": 16,
   "metadata": {},
   "outputs": [
    {
     "data": {
      "text/plain": [
       "count    45211.000000\n",
       "mean       258.163080\n",
       "std        257.527812\n",
       "min          0.000000\n",
       "25%        103.000000\n",
       "50%        180.000000\n",
       "75%        319.000000\n",
       "max       4918.000000\n",
       "Name: duration, dtype: float64"
      ]
     },
     "execution_count": 16,
     "metadata": {},
     "output_type": "execute_result"
    }
   ],
   "source": [
    "df['duration'].describe()"
   ]
  },
  {
   "attachments": {},
   "cell_type": "markdown",
   "metadata": {},
   "source": [
    "3- Interpretación de los resultados.\n",
    "- Ahora interpreta los resultados obtenidos de los diferentes estadísticos estudiados haciendo hincapié en aspectos interesantes de tus datos y explica lo mejor posible la naturaleza de los mismos."
   ]
  },
  {
   "attachments": {},
   "cell_type": "markdown",
   "metadata": {},
   "source": [
    "### Con respecto a la edad\n",
    "La media de la edad es de unos 40/41 años. La mediana está proxima a esta misma edad (39), si bien la moda baja un poco el rango (32), siendo esta la edad que más se repite entre los clientes.\n",
    "\n",
    "La desviación típica de 10, indica que la variabilidad en la edad se mueve en un un rango entre **30 y 50 años**. El coeficiente de variación es bajo (0.259), indicando que estamos ante unos datos hmogeneos.\n"
   ]
  },
  {
   "attachments": {},
   "cell_type": "markdown",
   "metadata": {},
   "source": [
    "### Con respecto a la duracion de la llamada\n",
    "\n",
    "Existe una elevada diferencia ere la media(258), la moda(124) y la mediana(180.0), con una desviacion típica similar a la propia media (257.5). Esto quiere decir que los datos son muy heterogeneos, confirmando dicha hipótesis el coeficiente de variación que es de (0.99).\n",
    "\n",
    "Teniendo en cuenta que el maximo de duración (en seg) es 4918 my el mínimo es 0, podemos intuir que si la media, moda y mediana se encuentra entre los 124 y los 258, la mayoría de los datos se encontraran alrededor de una franja entre los 100 y los 300 segundos y que existen alguno datos extremadamente dispares de mayor duracion.\n",
    "\n",
    "Al calcular los cuartiles encontramos de hecho que el 75% de las llamadas tienen una duracion menor de 319 segundos."
   ]
  }
 ],
 "metadata": {
  "kernelspec": {
   "display_name": "base",
   "language": "python",
   "name": "python3"
  },
  "language_info": {
   "codemirror_mode": {
    "name": "ipython",
    "version": 3
   },
   "file_extension": ".py",
   "mimetype": "text/x-python",
   "name": "python",
   "nbconvert_exporter": "python",
   "pygments_lexer": "ipython3",
   "version": "3.9.7"
  },
  "orig_nbformat": 4
 },
 "nbformat": 4,
 "nbformat_minor": 2
}
