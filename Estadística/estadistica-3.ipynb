{
 "cells": [
  {
   "attachments": {},
   "cell_type": "markdown",
   "metadata": {},
   "source": [
    "1- Extraer los siguentes estadísiticos del conjunto de datos para varias de las varibles disponibles:\n",
    "- Tabla de contingencia\n",
    "- Coeficiente de correlación de las variables numéricas del dataset.\n",
    "- Sesgos de alguna de las variables numéricas del dataset.\n",
    "- Intervalo de confianza de algunas de las variables numéricas del dataset"
   ]
  },
  {
   "attachments": {},
   "cell_type": "markdown",
   "metadata": {},
   "source": [
    "2- Interpretación de los resultados.\n",
    "- Ahora interpreta los resultados obtenidos de los diferentes estadísticos estudiados haciendo hincapié en aspectos interesantes de tus datos y explica lo mejor posible la naturaleza de los mismos."
   ]
  }
 ],
 "metadata": {
  "language_info": {
   "name": "python"
  },
  "orig_nbformat": 4
 },
 "nbformat": 4,
 "nbformat_minor": 2
}
