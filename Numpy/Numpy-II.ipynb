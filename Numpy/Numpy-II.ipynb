{
 "cells": [
  {
   "cell_type": "code",
   "execution_count": 1,
   "metadata": {},
   "outputs": [],
   "source": [
    "import numpy as np\n",
    "import pandas as pd\n"
   ]
  },
  {
   "attachments": {},
   "cell_type": "markdown",
   "metadata": {},
   "source": [
    "Ejercicio1-Cread un array de dos dimensiones de 5 filas y 3 columnas. Sobre el array creado anteriormente, extraed:\n",
    " -El valor de la primera fila y la segunda columna.\n"
   ]
  },
  {
   "cell_type": "code",
   "execution_count": 2,
   "metadata": {},
   "outputs": [
    {
     "name": "stdout",
     "output_type": "stream",
     "text": [
      "[[0.47530445 0.93406041 0.44339896]\n",
      " [0.21998341 0.32703456 0.50635592]\n",
      " [0.51938261 0.91572055 0.35158447]\n",
      " [0.65581631 0.66290454 0.33004635]\n",
      " [0.76856333 0.99591284 0.29752953]]\n"
     ]
    }
   ],
   "source": [
    "array = np.random.rand(5,3) \n",
    "print(array)"
   ]
  },
  {
   "cell_type": "code",
   "execution_count": 3,
   "metadata": {},
   "outputs": [
    {
     "data": {
      "text/plain": [
       "0.93406041046851"
      ]
     },
     "execution_count": 3,
     "metadata": {},
     "output_type": "execute_result"
    }
   ],
   "source": [
    "array[0,1]"
   ]
  },
  {
   "attachments": {},
   "cell_type": "markdown",
   "metadata": {},
   "source": [
    "1.1 Los valores de la segunda fila y las dos primeras columnas."
   ]
  },
  {
   "cell_type": "code",
   "execution_count": 4,
   "metadata": {},
   "outputs": [
    {
     "data": {
      "text/plain": [
       "array([0.21998341, 0.32703456])"
      ]
     },
     "execution_count": 4,
     "metadata": {},
     "output_type": "execute_result"
    }
   ],
   "source": [
    "array[1,:2]"
   ]
  },
  {
   "attachments": {},
   "cell_type": "markdown",
   "metadata": {},
   "source": [
    "1.2 Extraed las filas pares (incluyendo la 0) y todas las columnas."
   ]
  },
  {
   "cell_type": "code",
   "execution_count": 5,
   "metadata": {},
   "outputs": [
    {
     "data": {
      "text/plain": [
       "array([[0.47530445, 0.93406041, 0.44339896],\n",
       "       [0.51938261, 0.91572055, 0.35158447],\n",
       "       [0.76856333, 0.99591284, 0.29752953]])"
      ]
     },
     "execution_count": 5,
     "metadata": {},
     "output_type": "execute_result"
    }
   ],
   "source": [
    "array[::2,:]"
   ]
  },
  {
   "attachments": {},
   "cell_type": "markdown",
   "metadata": {},
   "source": [
    "1.3 Extraed los valores que sean mayores que 0.5."
   ]
  },
  {
   "cell_type": "code",
   "execution_count": 6,
   "metadata": {},
   "outputs": [
    {
     "data": {
      "text/plain": [
       "array([0.93406041, 0.50635592, 0.51938261, 0.91572055, 0.65581631,\n",
       "       0.66290454, 0.76856333, 0.99591284])"
      ]
     },
     "execution_count": 6,
     "metadata": {},
     "output_type": "execute_result"
    }
   ],
   "source": [
    "array[array > 0.5]"
   ]
  },
  {
   "attachments": {},
   "cell_type": "markdown",
   "metadata": {},
   "source": [
    "1.4 Extraed los valores menores que 0.2 o mayores que 0.5"
   ]
  },
  {
   "cell_type": "code",
   "execution_count": 7,
   "metadata": {},
   "outputs": [
    {
     "data": {
      "text/plain": [
       "array([0.93406041, 0.50635592, 0.51938261, 0.91572055, 0.65581631,\n",
       "       0.66290454, 0.76856333, 0.99591284])"
      ]
     },
     "execution_count": 7,
     "metadata": {},
     "output_type": "execute_result"
    }
   ],
   "source": [
    "array[(array<0.2)|(array>0.5)]"
   ]
  },
  {
   "attachments": {},
   "cell_type": "markdown",
   "metadata": {},
   "source": [
    "Ejercicio2-Cread dos array de tres dimensiones:"
   ]
  },
  {
   "attachments": {},
   "cell_type": "markdown",
   "metadata": {},
   "source": [
    "2.1 El primero de 2 matrices, 5 filas y 3 columnas."
   ]
  },
  {
   "cell_type": "code",
   "execution_count": 8,
   "metadata": {},
   "outputs": [
    {
     "name": "stdout",
     "output_type": "stream",
     "text": [
      "[[[3 8 1]\n",
      "  [5 6 0]\n",
      "  [1 7 2]\n",
      "  [5 0 1]\n",
      "  [7 4 1]]\n",
      "\n",
      " [[8 5 4]\n",
      "  [5 6 1]\n",
      "  [6 7 6]\n",
      "  [8 5 5]\n",
      "  [7 8 4]]]\n"
     ]
    }
   ],
   "source": [
    "array1 = np.random.randint(0,9,(2,5,3))\n",
    "print(array1)"
   ]
  },
  {
   "attachments": {},
   "cell_type": "markdown",
   "metadata": {},
   "source": [
    "2.2 El segundo de 3 matrices, 2 filas y 5 columnas"
   ]
  },
  {
   "cell_type": "code",
   "execution_count": 9,
   "metadata": {},
   "outputs": [
    {
     "name": "stdout",
     "output_type": "stream",
     "text": [
      "[[[8 5 4 5 4]\n",
      "  [6 5 2 4 0]]\n",
      "\n",
      " [[2 1 7 7 5]\n",
      "  [1 5 8 2 0]]\n",
      "\n",
      " [[8 2 3 7 5]\n",
      "  [8 5 4 7 5]]]\n"
     ]
    }
   ],
   "source": [
    "array2 = np.random.randint(0,9,(3,2,5))\n",
    "print(array2)"
   ]
  },
  {
   "attachments": {},
   "cell_type": "markdown",
   "metadata": {},
   "source": [
    "2.3 Haced un análisis exploratorio de los array creados. Recordad que en el ejercicio de ayer nos creamos una función para esto."
   ]
  },
  {
   "cell_type": "code",
   "execution_count": 10,
   "metadata": {},
   "outputs": [],
   "source": [
    "def analisis(miarray):\n",
    "    return miarray.shape, miarray.size, miarray.dtype"
   ]
  },
  {
   "cell_type": "code",
   "execution_count": 11,
   "metadata": {},
   "outputs": [
    {
     "name": "stdout",
     "output_type": "stream",
     "text": [
      "((2, 5, 3), 30, dtype('int64'))\n"
     ]
    },
    {
     "data": {
      "text/plain": [
       "((3, 2, 5), 30, dtype('int64'))"
      ]
     },
     "execution_count": 11,
     "metadata": {},
     "output_type": "execute_result"
    }
   ],
   "source": [
    "print(analisis(array1))\n",
    "\n",
    "analisis(array2)"
   ]
  },
  {
   "attachments": {},
   "cell_type": "markdown",
   "metadata": {},
   "source": [
    "2.4 Sumad los dos arrays. ¿Podéis? ¿Por qué?"
   ]
  },
  {
   "cell_type": "code",
   "execution_count": 12,
   "metadata": {},
   "outputs": [],
   "source": [
    "# no se puede porque no tienen la misma forma."
   ]
  },
  {
   "attachments": {},
   "cell_type": "markdown",
   "metadata": {},
   "source": [
    "2.5 Para cambiar la forma de un array y poder hacer operaciones entre arrays que tienen distintas formas hemos aprendido dos métodos:\n",
    "reshape()\n",
    "transpose()"
   ]
  },
  {
   "cell_type": "code",
   "execution_count": 13,
   "metadata": {},
   "outputs": [
    {
     "name": "stdout",
     "output_type": "stream",
     "text": [
      "[[[8 2 8]\n",
      "  [5 1 2]\n",
      "  [4 7 3]\n",
      "  [5 7 7]\n",
      "  [4 5 5]]\n",
      "\n",
      " [[6 1 8]\n",
      "  [5 5 5]\n",
      "  [2 8 4]\n",
      "  [4 2 7]\n",
      "  [0 0 5]]]\n"
     ]
    }
   ],
   "source": [
    "array3 = np.transpose(array2,(1,2,0))\n",
    "print(array3)"
   ]
  },
  {
   "attachments": {},
   "cell_type": "markdown",
   "metadata": {},
   "source": [
    "2.6 Utiliza estas dos funciones para cambiar la forma de los array y hacer operaciones entre ellos."
   ]
  },
  {
   "cell_type": "code",
   "execution_count": 14,
   "metadata": {},
   "outputs": [
    {
     "name": "stdout",
     "output_type": "stream",
     "text": [
      "[[[11 10  9]\n",
      "  [10  7  2]\n",
      "  [ 5 14  5]\n",
      "  [10  7  8]\n",
      "  [11  9  6]]\n",
      "\n",
      " [[14  6 12]\n",
      "  [10 11  6]\n",
      "  [ 8 15 10]\n",
      "  [12  7 12]\n",
      "  [ 7  8  9]]]\n"
     ]
    }
   ],
   "source": [
    "suma= np.add(array1,array3)\n",
    "print(suma)"
   ]
  },
  {
   "cell_type": "code",
   "execution_count": 15,
   "metadata": {},
   "outputs": [
    {
     "name": "stdout",
     "output_type": "stream",
     "text": [
      "[[[-5  6 -7]\n",
      "  [ 0  5 -2]\n",
      "  [-3  0 -1]\n",
      "  [ 0 -7 -6]\n",
      "  [ 3 -1 -4]]\n",
      "\n",
      " [[ 2  4 -4]\n",
      "  [ 0  1 -4]\n",
      "  [ 4 -1  2]\n",
      "  [ 4  3 -2]\n",
      "  [ 7  8 -1]]]\n"
     ]
    }
   ],
   "source": [
    "resta = np.subtract(array1,array3)\n",
    "print(resta)"
   ]
  }
 ],
 "metadata": {
  "kernelspec": {
   "display_name": "base",
   "language": "python",
   "name": "python3"
  },
  "language_info": {
   "codemirror_mode": {
    "name": "ipython",
    "version": 3
   },
   "file_extension": ".py",
   "mimetype": "text/x-python",
   "name": "python",
   "nbconvert_exporter": "python",
   "pygments_lexer": "ipython3",
   "version": "3.9.7"
  },
  "orig_nbformat": 4
 },
 "nbformat": 4,
 "nbformat_minor": 2
}
