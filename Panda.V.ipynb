{
 "cells": [
  {
   "attachments": {},
   "cell_type": "markdown",
   "metadata": {},
   "source": [
    "Ejercicio 1º Antes de empezar, deberéis crear una columna nueva en los dataframes de 2016.xlsx, 2017.xlsx, 2018.xlsx, 2019.xlsx, 2020.xlsx que contenga los valores del año al que corresponden.\n",
    "Para llevar a cabo nuestro objetivo tendréis que seguir los siguientes pasos:\n",
    "Cargad los siete ficheros nombrados anteriormente y los exploramos para familizarizarnos con ellos y saber que información tienen en común y debatir entre vosotras como podríamos juntar toda la información."
   ]
  },
  {
   "attachments": {},
   "cell_type": "markdown",
   "metadata": {},
   "source": [
    "Ejercicio2º Chequead que los nombres de las columnas y ver si se llaman iguales entre dataframes. ¿Están todas en minúsculas? ¿Tienen espacios? En caso de que no sea así homogeneizar los nombres de las columnas para que todos los dataframes tengan el mismo formato"
   ]
  },
  {
   "attachments": {},
   "cell_type": "markdown",
   "metadata": {},
   "source": [
    "Ejercicio3º En este momento nos habremos dado cuenta que el DataFrame que generamos en el pair programming Pandas IV es similar al DataFrame de los datos históricos (2017.xlsx, 2018.xlsx, 2019.xlsx, 2020.xlsx). Si recordamos, eliminamos algunas columnas en la sesión III que no eran útiles, tendréis que ver si esas columnas están en los dataframes nuevos, si es así eliminarlas. Por lo tanto, realizad los cambios que creáis necesarios para que los dataframes sean iguales y luego juntadlos usando el mejor método."
   ]
  },
  {
   "attachments": {},
   "cell_type": "markdown",
   "metadata": {},
   "source": [
    "Ejercicio 4º Es el momento de unir la información de todos los puestos y los empleados. Debatid que método es el más correcto para unir toda esta información y ejecutadlo."
   ]
  },
  {
   "attachments": {},
   "cell_type": "markdown",
   "metadata": {},
   "source": [
    "Ejercicio º5 Guardad los dataframes en dos csv diferentes que usaremos mañana en la clase de pair programming\n",
    "📌 NOTA Al final de este pair programing deberéis tener tres ficheros:\n",
    "El fichero de la unión de todos los conjuntos de datos de los distintos años\n",
    "El fichero con la unión de los datos de puestos y empleados.\n",
    "El fichero de los agentes\n"
   ]
  }
 ],
 "metadata": {
  "kernelspec": {
   "display_name": "base",
   "language": "python",
   "name": "python3"
  },
  "language_info": {
   "name": "python",
   "version": "3.9.7"
  },
  "orig_nbformat": 4
 },
 "nbformat": 4,
 "nbformat_minor": 2
}
