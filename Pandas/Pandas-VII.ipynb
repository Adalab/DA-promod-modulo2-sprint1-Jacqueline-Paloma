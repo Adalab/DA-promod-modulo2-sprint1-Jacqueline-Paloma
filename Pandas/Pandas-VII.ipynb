{
 "cells": [
  {
   "cell_type": "code",
   "execution_count": 2,
   "metadata": {},
   "outputs": [],
   "source": [
    "import pandas as pd\n",
    "import numpy as np\n",
    "import re\n",
    "import datetime\n",
    "pd.options.display.max_columns = None"
   ]
  },
  {
   "cell_type": "code",
   "execution_count": 4,
   "metadata": {},
   "outputs": [
    {
     "data": {
      "text/html": [
       "<div>\n",
       "<style scoped>\n",
       "    .dataframe tbody tr th:only-of-type {\n",
       "        vertical-align: middle;\n",
       "    }\n",
       "\n",
       "    .dataframe tbody tr th {\n",
       "        vertical-align: top;\n",
       "    }\n",
       "\n",
       "    .dataframe thead th {\n",
       "        text-align: right;\n",
       "    }\n",
       "</style>\n",
       "<table border=\"1\" class=\"dataframe\">\n",
       "  <thead>\n",
       "    <tr style=\"text-align: right;\">\n",
       "      <th></th>\n",
       "      <th>id_ticket</th>\n",
       "      <th>fecha</th>\n",
       "      <th>id_empleado</th>\n",
       "      <th>id_agente</th>\n",
       "      <th>categoría</th>\n",
       "      <th>tipo</th>\n",
       "      <th>severidad</th>\n",
       "      <th>prioridad</th>\n",
       "      <th>días_resolución</th>\n",
       "      <th>satisfacción</th>\n",
       "      <th>semestre</th>\n",
       "      <th>año</th>\n",
       "    </tr>\n",
       "  </thead>\n",
       "  <tbody>\n",
       "    <tr>\n",
       "      <th>15091</th>\n",
       "      <td>SWLTSR-6643171106</td>\n",
       "      <td>2018-03-12</td>\n",
       "      <td>1440</td>\n",
       "      <td>1</td>\n",
       "      <td>Sistema</td>\n",
       "      <td>Solicitud</td>\n",
       "      <td>2 - Normal</td>\n",
       "      <td>1 - Baja</td>\n",
       "      <td>0</td>\n",
       "      <td>4</td>\n",
       "      <td>1 semestre</td>\n",
       "      <td>2018</td>\n",
       "    </tr>\n",
       "    <tr>\n",
       "      <th>6170</th>\n",
       "      <td>KHLTSR-7542408532</td>\n",
       "      <td>2016-02-08</td>\n",
       "      <td>873</td>\n",
       "      <td>35</td>\n",
       "      <td>Sistema</td>\n",
       "      <td>Solicitud</td>\n",
       "      <td>2 - Normal</td>\n",
       "      <td>3 - Alta</td>\n",
       "      <td>5</td>\n",
       "      <td>3</td>\n",
       "      <td>1 semestre</td>\n",
       "      <td>2016</td>\n",
       "    </tr>\n",
       "    <tr>\n",
       "      <th>13117</th>\n",
       "      <td>THLTER-1442970997</td>\n",
       "      <td>2017-08-23</td>\n",
       "      <td>709</td>\n",
       "      <td>29</td>\n",
       "      <td>Software</td>\n",
       "      <td>Solicitud</td>\n",
       "      <td>2 - Normal</td>\n",
       "      <td>3 - Alta</td>\n",
       "      <td>4</td>\n",
       "      <td>4</td>\n",
       "      <td>2º semestre</td>\n",
       "      <td>2017</td>\n",
       "    </tr>\n",
       "  </tbody>\n",
       "</table>\n",
       "</div>"
      ],
      "text/plain": [
       "               id_ticket       fecha  id_empleado  id_agente categoría  \\\n",
       "15091  SWLTSR-6643171106  2018-03-12         1440          1   Sistema   \n",
       "6170   KHLTSR-7542408532  2016-02-08          873         35   Sistema   \n",
       "13117  THLTER-1442970997  2017-08-23          709         29  Software   \n",
       "\n",
       "            tipo   severidad prioridad  días_resolución  satisfacción  \\\n",
       "15091  Solicitud  2 - Normal  1 - Baja                0             4   \n",
       "6170   Solicitud  2 - Normal  3 - Alta                5             3   \n",
       "13117  Solicitud  2 - Normal  3 - Alta                4             4   \n",
       "\n",
       "          semestre   año  \n",
       "15091   1 semestre  2018  \n",
       "6170    1 semestre  2016  \n",
       "13117  2º semestre  2017  "
      ]
     },
     "execution_count": 4,
     "metadata": {},
     "output_type": "execute_result"
    }
   ],
   "source": [
    "df = pd.read_csv('../datos/historico_tickets.csv', index_col = 0)\n",
    "df.sample(3)"
   ]
  },
  {
   "attachments": {},
   "cell_type": "markdown",
   "metadata": {},
   "source": [
    "Ejercicio nº1 Cread una columna nueva y una función que nos de el mes en el que se solicitó el servicio. Tened en cuenta que todas las filas tienen la misma estructura. A la hora de escribir la función debemos tener en cuenta que puede que no haya la información de mes en la columna de la fecha. En ese caso devolved un nulo (NaN).\n",
    "📌 Nota La fecha tendrá que ir formato de string como \"Enero\", \"Febrero\", etc.\n",
    "💡 Pista 💡Podréis usar regex, pero no es estrictamente necesario."
   ]
  },
  {
   "cell_type": "code",
   "execution_count": 5,
   "metadata": {},
   "outputs": [],
   "source": [
    "df['fecha'] = df['fecha'].apply(pd.to_datetime)"
   ]
  },
  {
   "cell_type": "code",
   "execution_count": 6,
   "metadata": {},
   "outputs": [],
   "source": [
    "def sacar_mes(f):\n",
    "    return f.strftime(\"%B\")"
   ]
  },
  {
   "cell_type": "code",
   "execution_count": 7,
   "metadata": {},
   "outputs": [],
   "source": [
    "df['mes'] = df[\"fecha\"].apply(sacar_mes)"
   ]
  },
  {
   "cell_type": "code",
   "execution_count": 8,
   "metadata": {},
   "outputs": [
    {
     "data": {
      "text/html": [
       "<div>\n",
       "<style scoped>\n",
       "    .dataframe tbody tr th:only-of-type {\n",
       "        vertical-align: middle;\n",
       "    }\n",
       "\n",
       "    .dataframe tbody tr th {\n",
       "        vertical-align: top;\n",
       "    }\n",
       "\n",
       "    .dataframe thead th {\n",
       "        text-align: right;\n",
       "    }\n",
       "</style>\n",
       "<table border=\"1\" class=\"dataframe\">\n",
       "  <thead>\n",
       "    <tr style=\"text-align: right;\">\n",
       "      <th></th>\n",
       "      <th>id_ticket</th>\n",
       "      <th>fecha</th>\n",
       "      <th>id_empleado</th>\n",
       "      <th>id_agente</th>\n",
       "      <th>categoría</th>\n",
       "      <th>tipo</th>\n",
       "      <th>severidad</th>\n",
       "      <th>prioridad</th>\n",
       "      <th>días_resolución</th>\n",
       "      <th>satisfacción</th>\n",
       "      <th>semestre</th>\n",
       "      <th>año</th>\n",
       "      <th>mes</th>\n",
       "    </tr>\n",
       "  </thead>\n",
       "  <tbody>\n",
       "    <tr>\n",
       "      <th>12837</th>\n",
       "      <td>KHLTNT-1043979423</td>\n",
       "      <td>2020-05-28</td>\n",
       "      <td>1472</td>\n",
       "      <td>24</td>\n",
       "      <td>Acceso/Login</td>\n",
       "      <td>Solicitud</td>\n",
       "      <td>2 - Normal</td>\n",
       "      <td>3 - Alta</td>\n",
       "      <td>0</td>\n",
       "      <td>4</td>\n",
       "      <td>1 semestre</td>\n",
       "      <td>2020</td>\n",
       "      <td>May</td>\n",
       "    </tr>\n",
       "    <tr>\n",
       "      <th>19554</th>\n",
       "      <td>SHLTET-4543993399</td>\n",
       "      <td>2020-06-11</td>\n",
       "      <td>839</td>\n",
       "      <td>23</td>\n",
       "      <td>Software</td>\n",
       "      <td>Solicitud</td>\n",
       "      <td>2 - Normal</td>\n",
       "      <td>3 - Alta</td>\n",
       "      <td>5</td>\n",
       "      <td>4</td>\n",
       "      <td>1 semestre</td>\n",
       "      <td>2020</td>\n",
       "      <td>June</td>\n",
       "    </tr>\n",
       "    <tr>\n",
       "      <th>13162</th>\n",
       "      <td>KHLTSR-2743902637</td>\n",
       "      <td>2020-03-12</td>\n",
       "      <td>553</td>\n",
       "      <td>16</td>\n",
       "      <td>Sistema</td>\n",
       "      <td>Solicitud</td>\n",
       "      <td>2 - Normal</td>\n",
       "      <td>3 - Alta</td>\n",
       "      <td>7</td>\n",
       "      <td>5</td>\n",
       "      <td>1 semestre</td>\n",
       "      <td>2020</td>\n",
       "      <td>March</td>\n",
       "    </tr>\n",
       "  </tbody>\n",
       "</table>\n",
       "</div>"
      ],
      "text/plain": [
       "               id_ticket      fecha  id_empleado  id_agente     categoría  \\\n",
       "12837  KHLTNT-1043979423 2020-05-28         1472         24  Acceso/Login   \n",
       "19554  SHLTET-4543993399 2020-06-11          839         23      Software   \n",
       "13162  KHLTSR-2743902637 2020-03-12          553         16       Sistema   \n",
       "\n",
       "            tipo   severidad prioridad  días_resolución  satisfacción  \\\n",
       "12837  Solicitud  2 - Normal  3 - Alta                0             4   \n",
       "19554  Solicitud  2 - Normal  3 - Alta                5             4   \n",
       "13162  Solicitud  2 - Normal  3 - Alta                7             5   \n",
       "\n",
       "         semestre   año    mes  \n",
       "12837  1 semestre  2020    May  \n",
       "19554  1 semestre  2020   June  \n",
       "13162  1 semestre  2020  March  "
      ]
     },
     "execution_count": 8,
     "metadata": {},
     "output_type": "execute_result"
    }
   ],
   "source": [
    "df.sample(3)"
   ]
  },
  {
   "attachments": {},
   "cell_type": "markdown",
   "metadata": {},
   "source": [
    "Ejercicio nº2 En la tabla de empleados, tenemos los nombres y los apellidos de los empleados, pero en columnas separadas. En los ejercicios de pair de la lección del groupby vimos que si quisieramos agrupar por los nombres, esto se nos puede complicar. Ahora nos piden que creemos una columna donde tengamos el nombre y el apellido juntos.\n",
    "📌 NOTA La columna nueva debe tener el nombre y apellido con la primera letra en mayúsculas, por ejemplo \"Jesús Villa\".\n",
    "📌 NOTA Una vez hallamos creado la columna nueva, eliminad las columnas de nombre y apellido originales."
   ]
  },
  {
   "cell_type": "code",
   "execution_count": 10,
   "metadata": {},
   "outputs": [
    {
     "data": {
      "text/html": [
       "<div>\n",
       "<style scoped>\n",
       "    .dataframe tbody tr th:only-of-type {\n",
       "        vertical-align: middle;\n",
       "    }\n",
       "\n",
       "    .dataframe tbody tr th {\n",
       "        vertical-align: top;\n",
       "    }\n",
       "\n",
       "    .dataframe thead th {\n",
       "        text-align: right;\n",
       "    }\n",
       "</style>\n",
       "<table border=\"1\" class=\"dataframe\">\n",
       "  <thead>\n",
       "    <tr style=\"text-align: right;\">\n",
       "      <th></th>\n",
       "      <th>Turno</th>\n",
       "      <th>ID Empleado</th>\n",
       "      <th>Apellido</th>\n",
       "      <th>Nombre</th>\n",
       "      <th>ID Puesto</th>\n",
       "      <th>Email</th>\n",
       "      <th>Puesto</th>\n",
       "      <th>Departamento</th>\n",
       "      <th>Tipo Puesto</th>\n",
       "    </tr>\n",
       "  </thead>\n",
       "  <tbody>\n",
       "    <tr>\n",
       "      <th>80</th>\n",
       "      <td>NaN</td>\n",
       "      <td>95</td>\n",
       "      <td>PEREZ</td>\n",
       "      <td>IGNACIO</td>\n",
       "      <td>15-24100</td>\n",
       "      <td>ignacio.perez@tractchun.com</td>\n",
       "      <td>Supervisor de Producción</td>\n",
       "      <td>PRODUCCION</td>\n",
       "      <td>Mandos Medios</td>\n",
       "    </tr>\n",
       "    <tr>\n",
       "      <th>1767</th>\n",
       "      <td>NaN</td>\n",
       "      <td>1104</td>\n",
       "      <td>FIMBRES</td>\n",
       "      <td>BRACAMONTE</td>\n",
       "      <td>70-21100</td>\n",
       "      <td>bracamonte.fimbres@tractchun.com</td>\n",
       "      <td>Supervisor de Recursos Humanos</td>\n",
       "      <td>Recursos Humanos</td>\n",
       "      <td>Mandos Medios</td>\n",
       "    </tr>\n",
       "    <tr>\n",
       "      <th>865</th>\n",
       "      <td>NaN</td>\n",
       "      <td>595</td>\n",
       "      <td>ISLAS</td>\n",
       "      <td>ALICIA</td>\n",
       "      <td>70-21110</td>\n",
       "      <td>alicia.islas@tractchun.com</td>\n",
       "      <td>Entrenamiento</td>\n",
       "      <td>Recursos Humanos</td>\n",
       "      <td>Administrativo</td>\n",
       "    </tr>\n",
       "  </tbody>\n",
       "</table>\n",
       "</div>"
      ],
      "text/plain": [
       "     Turno  ID Empleado Apellido      Nombre ID Puesto  \\\n",
       "80     NaN           95    PEREZ     IGNACIO  15-24100   \n",
       "1767   NaN         1104  FIMBRES  BRACAMONTE  70-21100   \n",
       "865    NaN          595    ISLAS      ALICIA  70-21110   \n",
       "\n",
       "                                 Email                          Puesto  \\\n",
       "80         ignacio.perez@tractchun.com        Supervisor de Producción   \n",
       "1767  bracamonte.fimbres@tractchun.com  Supervisor de Recursos Humanos   \n",
       "865         alicia.islas@tractchun.com                   Entrenamiento   \n",
       "\n",
       "          Departamento     Tipo Puesto  \n",
       "80          PRODUCCION   Mandos Medios  \n",
       "1767  Recursos Humanos   Mandos Medios  \n",
       "865   Recursos Humanos  Administrativo  "
      ]
     },
     "execution_count": 10,
     "metadata": {},
     "output_type": "execute_result"
    }
   ],
   "source": [
    "dfe = pd.read_csv('../datos/empleados_puestos.csv', index_col = 0)\n",
    "dfe.sample(3)"
   ]
  },
  {
   "cell_type": "code",
   "execution_count": 11,
   "metadata": {},
   "outputs": [],
   "source": [
    "def nombre_completo(nombre, apellido):\n",
    "    try:\n",
    "        nc = nombre.title() + ' ' + apellido.title()\n",
    "        return nc\n",
    "    except:\n",
    "        return np.nan"
   ]
  },
  {
   "cell_type": "code",
   "execution_count": 12,
   "metadata": {},
   "outputs": [],
   "source": [
    "dfe['Nom_Completo'] = dfe.apply(lambda dataf: nombre_completo(dataf['Nombre'], dataf['Apellido']), axis = 1)"
   ]
  },
  {
   "cell_type": "code",
   "execution_count": 13,
   "metadata": {},
   "outputs": [],
   "source": [
    "dfe.drop('Apellido', axis = 1, inplace = True)\n",
    "dfe.drop('Nombre', axis = 1, inplace = True)"
   ]
  },
  {
   "cell_type": "code",
   "execution_count": 14,
   "metadata": {},
   "outputs": [
    {
     "data": {
      "text/html": [
       "<div>\n",
       "<style scoped>\n",
       "    .dataframe tbody tr th:only-of-type {\n",
       "        vertical-align: middle;\n",
       "    }\n",
       "\n",
       "    .dataframe tbody tr th {\n",
       "        vertical-align: top;\n",
       "    }\n",
       "\n",
       "    .dataframe thead th {\n",
       "        text-align: right;\n",
       "    }\n",
       "</style>\n",
       "<table border=\"1\" class=\"dataframe\">\n",
       "  <thead>\n",
       "    <tr style=\"text-align: right;\">\n",
       "      <th></th>\n",
       "      <th>Turno</th>\n",
       "      <th>ID Empleado</th>\n",
       "      <th>ID Puesto</th>\n",
       "      <th>Email</th>\n",
       "      <th>Puesto</th>\n",
       "      <th>Departamento</th>\n",
       "      <th>Tipo Puesto</th>\n",
       "      <th>Nom_Completo</th>\n",
       "    </tr>\n",
       "  </thead>\n",
       "  <tbody>\n",
       "    <tr>\n",
       "      <th>1499</th>\n",
       "      <td>NaN</td>\n",
       "      <td>1556</td>\n",
       "      <td>90-14100</td>\n",
       "      <td>enrique.cortes@tractchun.com</td>\n",
       "      <td>Ingeniero de Calidad</td>\n",
       "      <td>INGENIERIA DE CALIDAD</td>\n",
       "      <td>Operativo</td>\n",
       "      <td>Enrique Cortes</td>\n",
       "    </tr>\n",
       "    <tr>\n",
       "      <th>214</th>\n",
       "      <td>NaN</td>\n",
       "      <td>1694</td>\n",
       "      <td>15-24100</td>\n",
       "      <td>heriberto.romero@tractchun.com</td>\n",
       "      <td>Supervisor de Producción</td>\n",
       "      <td>PRODUCCION</td>\n",
       "      <td>Mandos Medios</td>\n",
       "      <td>Heriberto Romero</td>\n",
       "    </tr>\n",
       "    <tr>\n",
       "      <th>251</th>\n",
       "      <td>NaN</td>\n",
       "      <td>1547</td>\n",
       "      <td>15-24100</td>\n",
       "      <td>leonor.torrico@tractchun.com</td>\n",
       "      <td>Supervisor de Producción</td>\n",
       "      <td>PRODUCCION</td>\n",
       "      <td>Mandos Medios</td>\n",
       "      <td>Leonor Torrico</td>\n",
       "    </tr>\n",
       "  </tbody>\n",
       "</table>\n",
       "</div>"
      ],
      "text/plain": [
       "     Turno  ID Empleado ID Puesto                           Email  \\\n",
       "1499   NaN         1556  90-14100    enrique.cortes@tractchun.com   \n",
       "214    NaN         1694  15-24100  heriberto.romero@tractchun.com   \n",
       "251    NaN         1547  15-24100    leonor.torrico@tractchun.com   \n",
       "\n",
       "                        Puesto           Departamento    Tipo Puesto  \\\n",
       "1499      Ingeniero de Calidad  INGENIERIA DE CALIDAD      Operativo   \n",
       "214   Supervisor de Producción             PRODUCCION  Mandos Medios   \n",
       "251   Supervisor de Producción             PRODUCCION  Mandos Medios   \n",
       "\n",
       "          Nom_Completo  \n",
       "1499    Enrique Cortes  \n",
       "214   Heriberto Romero  \n",
       "251     Leonor Torrico  "
      ]
     },
     "execution_count": 14,
     "metadata": {},
     "output_type": "execute_result"
    }
   ],
   "source": [
    "\n",
    "dfe.sample(3)"
   ]
  },
  {
   "attachments": {},
   "cell_type": "markdown",
   "metadata": {},
   "source": [
    "Ejercicio nª3 En el pair programming desde a dirección nos pedían que agruparamos los datos en base a la columna de \"categoría\", puede que en aquel momento nos dieramos cuenta que había varías categorías que eran igual (en concreto \"Acceso Login\") pero que en algunos casos tenía unos símbolos raros (&, %, -). Es el momento de limpiar esta columna. El objetivo, reemplazar todos estos símbolos raros por \"/\", para conseguir homogeneizar los valores de esta columna. Para ellos deberemos crear una función."
   ]
  },
  {
   "cell_type": "code",
   "execution_count": 15,
   "metadata": {},
   "outputs": [
    {
     "data": {
      "text/html": [
       "<div>\n",
       "<style scoped>\n",
       "    .dataframe tbody tr th:only-of-type {\n",
       "        vertical-align: middle;\n",
       "    }\n",
       "\n",
       "    .dataframe tbody tr th {\n",
       "        vertical-align: top;\n",
       "    }\n",
       "\n",
       "    .dataframe thead th {\n",
       "        text-align: right;\n",
       "    }\n",
       "</style>\n",
       "<table border=\"1\" class=\"dataframe\">\n",
       "  <thead>\n",
       "    <tr style=\"text-align: right;\">\n",
       "      <th></th>\n",
       "      <th>id_ticket</th>\n",
       "      <th>fecha</th>\n",
       "      <th>id_empleado</th>\n",
       "      <th>id_agente</th>\n",
       "      <th>categoría</th>\n",
       "      <th>tipo</th>\n",
       "      <th>severidad</th>\n",
       "      <th>prioridad</th>\n",
       "      <th>días_resolución</th>\n",
       "      <th>satisfacción</th>\n",
       "      <th>semestre</th>\n",
       "      <th>año</th>\n",
       "      <th>mes</th>\n",
       "    </tr>\n",
       "  </thead>\n",
       "  <tbody>\n",
       "    <tr>\n",
       "      <th>9988</th>\n",
       "      <td>KMLTSR-5543237815</td>\n",
       "      <td>2018-05-17</td>\n",
       "      <td>1931</td>\n",
       "      <td>8</td>\n",
       "      <td>Sistema</td>\n",
       "      <td>Solicitud</td>\n",
       "      <td>2 - Normal</td>\n",
       "      <td>2 - Media</td>\n",
       "      <td>5</td>\n",
       "      <td>4</td>\n",
       "      <td>1 semestre</td>\n",
       "      <td>2018</td>\n",
       "      <td>May</td>\n",
       "    </tr>\n",
       "    <tr>\n",
       "      <th>4283</th>\n",
       "      <td>GHRTSR-1643684792</td>\n",
       "      <td>2019-08-07</td>\n",
       "      <td>1699</td>\n",
       "      <td>17</td>\n",
       "      <td>Sistema</td>\n",
       "      <td>Solicitud</td>\n",
       "      <td>3 - Mayor</td>\n",
       "      <td>3 - Alta</td>\n",
       "      <td>6</td>\n",
       "      <td>5</td>\n",
       "      <td>2º semestre</td>\n",
       "      <td>2019</td>\n",
       "      <td>August</td>\n",
       "    </tr>\n",
       "  </tbody>\n",
       "</table>\n",
       "</div>"
      ],
      "text/plain": [
       "              id_ticket      fecha  id_empleado  id_agente categoría  \\\n",
       "9988  KMLTSR-5543237815 2018-05-17         1931          8   Sistema   \n",
       "4283  GHRTSR-1643684792 2019-08-07         1699         17   Sistema   \n",
       "\n",
       "           tipo   severidad  prioridad  días_resolución  satisfacción  \\\n",
       "9988  Solicitud  2 - Normal  2 - Media                5             4   \n",
       "4283  Solicitud   3 - Mayor   3 - Alta                6             5   \n",
       "\n",
       "         semestre   año     mes  \n",
       "9988   1 semestre  2018     May  \n",
       "4283  2º semestre  2019  August  "
      ]
     },
     "execution_count": 15,
     "metadata": {},
     "output_type": "execute_result"
    }
   ],
   "source": [
    "df.sample(2)"
   ]
  },
  {
   "cell_type": "code",
   "execution_count": 16,
   "metadata": {},
   "outputs": [
    {
     "data": {
      "text/plain": [
       "array(['Acceso&%Login', 'Sistema', 'Software', 'Hardware',\n",
       "       'Acceso%&Login', 'Acceso-&Login', 'Acceso99Login', 'Acceso/Login'],\n",
       "      dtype=object)"
      ]
     },
     "execution_count": 16,
     "metadata": {},
     "output_type": "execute_result"
    }
   ],
   "source": [
    "categorías = df['categoría'].unique()\n",
    "categorías"
   ]
  },
  {
   "cell_type": "code",
   "execution_count": 17,
   "metadata": {},
   "outputs": [],
   "source": [
    "def limpiar_cat(c):\n",
    "    if c == 'Acceso&%Login' or c == 'Acceso%&Login' or c == 'Acceso-&Login' or c == 'Acceso99Login':\n",
    "        return 'Acceso/Login'\n",
    "    else:\n",
    "        return c"
   ]
  },
  {
   "cell_type": "code",
   "execution_count": 19,
   "metadata": {},
   "outputs": [],
   "source": [
    "df['categoría'] = df['categoría'].apply(limpiar_cat)"
   ]
  },
  {
   "cell_type": "code",
   "execution_count": 20,
   "metadata": {},
   "outputs": [
    {
     "data": {
      "text/plain": [
       "array(['Acceso/Login', 'Sistema', 'Software', 'Hardware'], dtype=object)"
      ]
     },
     "execution_count": 20,
     "metadata": {},
     "output_type": "execute_result"
    }
   ],
   "source": [
    "df['categoría'].unique()"
   ]
  },
  {
   "attachments": {},
   "cell_type": "markdown",
   "metadata": {},
   "source": [
    "Ejercicio nª4 Una vez que hayáis terminado eliminad las columnas originales conservando las nuevas."
   ]
  },
  {
   "cell_type": "code",
   "execution_count": 21,
   "metadata": {},
   "outputs": [
    {
     "data": {
      "text/html": [
       "<div>\n",
       "<style scoped>\n",
       "    .dataframe tbody tr th:only-of-type {\n",
       "        vertical-align: middle;\n",
       "    }\n",
       "\n",
       "    .dataframe tbody tr th {\n",
       "        vertical-align: top;\n",
       "    }\n",
       "\n",
       "    .dataframe thead th {\n",
       "        text-align: right;\n",
       "    }\n",
       "</style>\n",
       "<table border=\"1\" class=\"dataframe\">\n",
       "  <thead>\n",
       "    <tr style=\"text-align: right;\">\n",
       "      <th></th>\n",
       "      <th>id_ticket</th>\n",
       "      <th>fecha</th>\n",
       "      <th>id_empleado</th>\n",
       "      <th>id_agente</th>\n",
       "      <th>categoría</th>\n",
       "      <th>tipo</th>\n",
       "      <th>severidad</th>\n",
       "      <th>prioridad</th>\n",
       "      <th>días_resolución</th>\n",
       "      <th>satisfacción</th>\n",
       "      <th>semestre</th>\n",
       "      <th>año</th>\n",
       "      <th>mes</th>\n",
       "    </tr>\n",
       "  </thead>\n",
       "  <tbody>\n",
       "    <tr>\n",
       "      <th>867</th>\n",
       "      <td>GDLTSR-0542887752</td>\n",
       "      <td>2017-06-01</td>\n",
       "      <td>1465</td>\n",
       "      <td>17</td>\n",
       "      <td>Sistema</td>\n",
       "      <td>Solicitud</td>\n",
       "      <td>2 - Normal</td>\n",
       "      <td>0 - Sin Asignar</td>\n",
       "      <td>5</td>\n",
       "      <td>5</td>\n",
       "      <td>1 semestre</td>\n",
       "      <td>2017</td>\n",
       "      <td>June</td>\n",
       "    </tr>\n",
       "    <tr>\n",
       "      <th>4380</th>\n",
       "      <td>KDLTNR-3042646747</td>\n",
       "      <td>2016-10-03</td>\n",
       "      <td>1754</td>\n",
       "      <td>27</td>\n",
       "      <td>Acceso/Login</td>\n",
       "      <td>Solicitud</td>\n",
       "      <td>2 - Normal</td>\n",
       "      <td>0 - Sin Asignar</td>\n",
       "      <td>0</td>\n",
       "      <td>3</td>\n",
       "      <td>2º semestre</td>\n",
       "      <td>2016</td>\n",
       "      <td>October</td>\n",
       "    </tr>\n",
       "    <tr>\n",
       "      <th>17139</th>\n",
       "      <td>THLTNT-4043387889</td>\n",
       "      <td>2018-10-14</td>\n",
       "      <td>1228</td>\n",
       "      <td>38</td>\n",
       "      <td>Acceso/Login</td>\n",
       "      <td>Solicitud</td>\n",
       "      <td>2 - Normal</td>\n",
       "      <td>3 - Alta</td>\n",
       "      <td>0</td>\n",
       "      <td>4</td>\n",
       "      <td>2º semestre</td>\n",
       "      <td>2018</td>\n",
       "      <td>October</td>\n",
       "    </tr>\n",
       "    <tr>\n",
       "      <th>13094</th>\n",
       "      <td>SHLTNT-0043288188</td>\n",
       "      <td>2018-07-07</td>\n",
       "      <td>288</td>\n",
       "      <td>11</td>\n",
       "      <td>Acceso/Login</td>\n",
       "      <td>Solicitud</td>\n",
       "      <td>2 - Normal</td>\n",
       "      <td>3 - Alta</td>\n",
       "      <td>0</td>\n",
       "      <td>4</td>\n",
       "      <td>2º semestre</td>\n",
       "      <td>2018</td>\n",
       "      <td>July</td>\n",
       "    </tr>\n",
       "  </tbody>\n",
       "</table>\n",
       "</div>"
      ],
      "text/plain": [
       "               id_ticket      fecha  id_empleado  id_agente     categoría  \\\n",
       "867    GDLTSR-0542887752 2017-06-01         1465         17       Sistema   \n",
       "4380   KDLTNR-3042646747 2016-10-03         1754         27  Acceso/Login   \n",
       "17139  THLTNT-4043387889 2018-10-14         1228         38  Acceso/Login   \n",
       "13094  SHLTNT-0043288188 2018-07-07          288         11  Acceso/Login   \n",
       "\n",
       "            tipo   severidad        prioridad  días_resolución  satisfacción  \\\n",
       "867    Solicitud  2 - Normal  0 - Sin Asignar                5             5   \n",
       "4380   Solicitud  2 - Normal  0 - Sin Asignar                0             3   \n",
       "17139  Solicitud  2 - Normal         3 - Alta                0             4   \n",
       "13094  Solicitud  2 - Normal         3 - Alta                0             4   \n",
       "\n",
       "          semestre   año      mes  \n",
       "867     1 semestre  2017     June  \n",
       "4380   2º semestre  2016  October  \n",
       "17139  2º semestre  2018  October  \n",
       "13094  2º semestre  2018     July  "
      ]
     },
     "execution_count": 21,
     "metadata": {},
     "output_type": "execute_result"
    }
   ],
   "source": [
    "df.sample(4)"
   ]
  },
  {
   "attachments": {},
   "cell_type": "markdown",
   "metadata": {},
   "source": [
    "Ejercicio nª5 Guardad el dataframe en un csv que usaremos más adelante"
   ]
  },
  {
   "cell_type": "code",
   "execution_count": 22,
   "metadata": {},
   "outputs": [],
   "source": [
    "df.to_csv(\"../datos/tickets_final.csv\")\n",
    "dfe.to_csv(\"../datos/empleados_final.csv\")"
   ]
  }
 ],
 "metadata": {
  "kernelspec": {
   "display_name": "base",
   "language": "python",
   "name": "python3"
  },
  "language_info": {
   "codemirror_mode": {
    "name": "ipython",
    "version": 3
   },
   "file_extension": ".py",
   "mimetype": "text/x-python",
   "name": "python",
   "nbconvert_exporter": "python",
   "pygments_lexer": "ipython3",
   "version": "3.9.7"
  },
  "orig_nbformat": 4
 },
 "nbformat": 4,
 "nbformat_minor": 2
}
