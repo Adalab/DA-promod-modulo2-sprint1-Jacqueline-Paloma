{
 "cells": [
  {
   "cell_type": "code",
   "execution_count": 1,
   "metadata": {},
   "outputs": [],
   "source": [
    "import pandas as pd\n",
    "import numpy as np\n",
    "import re\n",
    "import datetime\n",
    "pd.options.display.max_columns = None"
   ]
  },
  {
   "attachments": {},
   "cell_type": "markdown",
   "metadata": {},
   "source": [
    "Seguiremos trabajando con mismos csv que en el pair anterior, el de los empleados que unimos en el pair de unión de datasets y el de los tickets de todos los años. Para ello, lo primero que tendremos que hacer es cargar estos dos csv."
   ]
  },
  {
   "cell_type": "code",
   "execution_count": 2,
   "metadata": {},
   "outputs": [
    {
     "data": {
      "text/html": [
       "<div>\n",
       "<style scoped>\n",
       "    .dataframe tbody tr th:only-of-type {\n",
       "        vertical-align: middle;\n",
       "    }\n",
       "\n",
       "    .dataframe tbody tr th {\n",
       "        vertical-align: top;\n",
       "    }\n",
       "\n",
       "    .dataframe thead th {\n",
       "        text-align: right;\n",
       "    }\n",
       "</style>\n",
       "<table border=\"1\" class=\"dataframe\">\n",
       "  <thead>\n",
       "    <tr style=\"text-align: right;\">\n",
       "      <th></th>\n",
       "      <th>id_ticket</th>\n",
       "      <th>fecha</th>\n",
       "      <th>id_empleado</th>\n",
       "      <th>id_agente</th>\n",
       "      <th>categoría</th>\n",
       "      <th>tipo</th>\n",
       "      <th>severidad</th>\n",
       "      <th>prioridad</th>\n",
       "      <th>días_resolución</th>\n",
       "      <th>satisfacción</th>\n",
       "      <th>semestre</th>\n",
       "      <th>año</th>\n",
       "    </tr>\n",
       "  </thead>\n",
       "  <tbody>\n",
       "    <tr>\n",
       "      <th>8321</th>\n",
       "      <td>KWLTER-5842809069</td>\n",
       "      <td>2017-03-15</td>\n",
       "      <td>1526</td>\n",
       "      <td>30</td>\n",
       "      <td>Software</td>\n",
       "      <td>Solicitud</td>\n",
       "      <td>2 - Normal</td>\n",
       "      <td>1 - Baja</td>\n",
       "      <td>8</td>\n",
       "      <td>1</td>\n",
       "      <td>1 semestre</td>\n",
       "      <td>2017</td>\n",
       "    </tr>\n",
       "    <tr>\n",
       "      <th>8286</th>\n",
       "      <td>KHLEER-0443514179</td>\n",
       "      <td>2019-02-18</td>\n",
       "      <td>437</td>\n",
       "      <td>11</td>\n",
       "      <td>Software</td>\n",
       "      <td>Problema</td>\n",
       "      <td>2 - Normal</td>\n",
       "      <td>3 - Alta</td>\n",
       "      <td>1</td>\n",
       "      <td>2</td>\n",
       "      <td>1 semestre</td>\n",
       "      <td>2019</td>\n",
       "    </tr>\n",
       "    <tr>\n",
       "      <th>3138</th>\n",
       "      <td>GWLEER-0442613746</td>\n",
       "      <td>2016-08-31</td>\n",
       "      <td>204</td>\n",
       "      <td>47</td>\n",
       "      <td>Software</td>\n",
       "      <td>Problema</td>\n",
       "      <td>2 - Normal</td>\n",
       "      <td>1 - Baja</td>\n",
       "      <td>4</td>\n",
       "      <td>5</td>\n",
       "      <td>2º semestre</td>\n",
       "      <td>2016</td>\n",
       "    </tr>\n",
       "  </tbody>\n",
       "</table>\n",
       "</div>"
      ],
      "text/plain": [
       "              id_ticket       fecha  id_empleado  id_agente categoría  \\\n",
       "8321  KWLTER-5842809069  2017-03-15         1526         30  Software   \n",
       "8286  KHLEER-0443514179  2019-02-18          437         11  Software   \n",
       "3138  GWLEER-0442613746  2016-08-31          204         47  Software   \n",
       "\n",
       "           tipo   severidad prioridad  días_resolución  satisfacción  \\\n",
       "8321  Solicitud  2 - Normal  1 - Baja                8             1   \n",
       "8286   Problema  2 - Normal  3 - Alta                1             2   \n",
       "3138   Problema  2 - Normal  1 - Baja                4             5   \n",
       "\n",
       "         semestre   año  \n",
       "8321   1 semestre  2017  \n",
       "8286   1 semestre  2019  \n",
       "3138  2º semestre  2016  "
      ]
     },
     "execution_count": 2,
     "metadata": {},
     "output_type": "execute_result"
    }
   ],
   "source": [
    "df = pd.read_csv('historico_tickets.csv', index_col = 0)\n",
    "df.sample(3)"
   ]
  },
  {
   "attachments": {},
   "cell_type": "markdown",
   "metadata": {},
   "source": [
    "1- Cread una columna nueva y una función que nos de el mes en el que se solicitó el servicio. Tened en cuenta que todas las filas tienen la misma estructura. A la hora de escribir la función debemos tener en cuenta que puede que no haya la información de mes en la columna de la fecha. En ese caso devolved un nulo (NaN).\n",
    "\n",
    "📌 Nota La fecha tendrá que ir formato de string como \"Enero\", \"Febrero\", etc.\n",
    "\n",
    "💡 Pista 💡Podréis usar regex, pero no es estrictamente necesario."
   ]
  },
  {
   "cell_type": "code",
   "execution_count": 3,
   "metadata": {},
   "outputs": [],
   "source": [
    "df['fecha'] = df['fecha'].apply(pd.to_datetime)"
   ]
  },
  {
   "cell_type": "code",
   "execution_count": 4,
   "metadata": {},
   "outputs": [],
   "source": [
    "def sacar_mes(f):\n",
    "    return f.strftime(\"%B\")"
   ]
  },
  {
   "cell_type": "code",
   "execution_count": 5,
   "metadata": {},
   "outputs": [],
   "source": [
    "df['mes'] = df[\"fecha\"].apply(sacar_mes)"
   ]
  },
  {
   "cell_type": "code",
   "execution_count": 6,
   "metadata": {},
   "outputs": [
    {
     "data": {
      "text/html": [
       "<div>\n",
       "<style scoped>\n",
       "    .dataframe tbody tr th:only-of-type {\n",
       "        vertical-align: middle;\n",
       "    }\n",
       "\n",
       "    .dataframe tbody tr th {\n",
       "        vertical-align: top;\n",
       "    }\n",
       "\n",
       "    .dataframe thead th {\n",
       "        text-align: right;\n",
       "    }\n",
       "</style>\n",
       "<table border=\"1\" class=\"dataframe\">\n",
       "  <thead>\n",
       "    <tr style=\"text-align: right;\">\n",
       "      <th></th>\n",
       "      <th>id_ticket</th>\n",
       "      <th>fecha</th>\n",
       "      <th>id_empleado</th>\n",
       "      <th>id_agente</th>\n",
       "      <th>categoría</th>\n",
       "      <th>tipo</th>\n",
       "      <th>severidad</th>\n",
       "      <th>prioridad</th>\n",
       "      <th>días_resolución</th>\n",
       "      <th>satisfacción</th>\n",
       "      <th>semestre</th>\n",
       "      <th>año</th>\n",
       "      <th>mes</th>\n",
       "    </tr>\n",
       "  </thead>\n",
       "  <tbody>\n",
       "    <tr>\n",
       "      <th>6785</th>\n",
       "      <td>GMLTNR-9044001669</td>\n",
       "      <td>2020-06-19</td>\n",
       "      <td>1686</td>\n",
       "      <td>26</td>\n",
       "      <td>Acceso/Login</td>\n",
       "      <td>Solicitud</td>\n",
       "      <td>2 - Normal</td>\n",
       "      <td>2 - Media</td>\n",
       "      <td>0</td>\n",
       "      <td>5</td>\n",
       "      <td>1 semestre</td>\n",
       "      <td>2020</td>\n",
       "      <td>June</td>\n",
       "    </tr>\n",
       "    <tr>\n",
       "      <th>7782</th>\n",
       "      <td>GWLTER-3443966748</td>\n",
       "      <td>2020-05-15</td>\n",
       "      <td>1634</td>\n",
       "      <td>27</td>\n",
       "      <td>Software</td>\n",
       "      <td>Solicitud</td>\n",
       "      <td>2 - Normal</td>\n",
       "      <td>1 - Baja</td>\n",
       "      <td>4</td>\n",
       "      <td>1</td>\n",
       "      <td>1 semestre</td>\n",
       "      <td>2020</td>\n",
       "      <td>May</td>\n",
       "    </tr>\n",
       "    <tr>\n",
       "      <th>5633</th>\n",
       "      <td>KHLTET-5542636532</td>\n",
       "      <td>2016-09-23</td>\n",
       "      <td>103</td>\n",
       "      <td>5</td>\n",
       "      <td>Software</td>\n",
       "      <td>Solicitud</td>\n",
       "      <td>2 - Normal</td>\n",
       "      <td>3 - Alta</td>\n",
       "      <td>5</td>\n",
       "      <td>4</td>\n",
       "      <td>2º semestre</td>\n",
       "      <td>2016</td>\n",
       "      <td>September</td>\n",
       "    </tr>\n",
       "  </tbody>\n",
       "</table>\n",
       "</div>"
      ],
      "text/plain": [
       "              id_ticket      fecha  id_empleado  id_agente     categoría  \\\n",
       "6785  GMLTNR-9044001669 2020-06-19         1686         26  Acceso/Login   \n",
       "7782  GWLTER-3443966748 2020-05-15         1634         27      Software   \n",
       "5633  KHLTET-5542636532 2016-09-23          103          5      Software   \n",
       "\n",
       "           tipo   severidad  prioridad  días_resolución  satisfacción  \\\n",
       "6785  Solicitud  2 - Normal  2 - Media                0             5   \n",
       "7782  Solicitud  2 - Normal   1 - Baja                4             1   \n",
       "5633  Solicitud  2 - Normal   3 - Alta                5             4   \n",
       "\n",
       "         semestre   año        mes  \n",
       "6785   1 semestre  2020       June  \n",
       "7782   1 semestre  2020        May  \n",
       "5633  2º semestre  2016  September  "
      ]
     },
     "execution_count": 6,
     "metadata": {},
     "output_type": "execute_result"
    }
   ],
   "source": [
    "df.sample(3)"
   ]
  },
  {
   "attachments": {},
   "cell_type": "markdown",
   "metadata": {},
   "source": [
    "2- En la tabla de empleados, tenemos los nombres y los apellidos de los empleados, pero en columnas separadas. En los ejercicios de pair de la lección del groupby vimos que si quisieramos agrupar por los nombres, esto se nos puede complicar. Ahora nos piden que creemos una columna donde tengamos el nombre y el apellido juntos.\n",
    "\n",
    "📌 NOTA La columna nueva debe tener el nombre y apellido con la primera letra en mayúsculas, por ejemplo \"Jesús Villa\".\n",
    "\n",
    "📌 NOTA Una vez hallamos creado la columna nueva, eliminad las columnas de nombre y apellido originales."
   ]
  },
  {
   "cell_type": "code",
   "execution_count": 29,
   "metadata": {},
   "outputs": [
    {
     "data": {
      "text/html": [
       "<div>\n",
       "<style scoped>\n",
       "    .dataframe tbody tr th:only-of-type {\n",
       "        vertical-align: middle;\n",
       "    }\n",
       "\n",
       "    .dataframe tbody tr th {\n",
       "        vertical-align: top;\n",
       "    }\n",
       "\n",
       "    .dataframe thead th {\n",
       "        text-align: right;\n",
       "    }\n",
       "</style>\n",
       "<table border=\"1\" class=\"dataframe\">\n",
       "  <thead>\n",
       "    <tr style=\"text-align: right;\">\n",
       "      <th></th>\n",
       "      <th>Turno</th>\n",
       "      <th>ID Empleado</th>\n",
       "      <th>Apellido</th>\n",
       "      <th>Nombre</th>\n",
       "      <th>ID Puesto</th>\n",
       "      <th>Email</th>\n",
       "      <th>Puesto</th>\n",
       "      <th>Departamento</th>\n",
       "      <th>Tipo Puesto</th>\n",
       "    </tr>\n",
       "  </thead>\n",
       "  <tbody>\n",
       "    <tr>\n",
       "      <th>373</th>\n",
       "      <td>NaN</td>\n",
       "      <td>178</td>\n",
       "      <td>VALDEZ</td>\n",
       "      <td>FLORA</td>\n",
       "      <td>15-24100</td>\n",
       "      <td>flora.valdez@tractchun.com</td>\n",
       "      <td>Supervisor de Producción</td>\n",
       "      <td>PRODUCCION</td>\n",
       "      <td>Mandos Medios</td>\n",
       "    </tr>\n",
       "    <tr>\n",
       "      <th>167</th>\n",
       "      <td>NaN</td>\n",
       "      <td>269</td>\n",
       "      <td>Betancur</td>\n",
       "      <td>Jeisson</td>\n",
       "      <td>15-24100</td>\n",
       "      <td>jeisson.betancur@tractchun.com</td>\n",
       "      <td>Supervisor de Producción</td>\n",
       "      <td>PRODUCCION</td>\n",
       "      <td>Mandos Medios</td>\n",
       "    </tr>\n",
       "    <tr>\n",
       "      <th>1239</th>\n",
       "      <td>NaN</td>\n",
       "      <td>851</td>\n",
       "      <td>CASTELLANOS</td>\n",
       "      <td>ARACELI</td>\n",
       "      <td>80-22210</td>\n",
       "      <td>araceli.castellanos@tractchun.com</td>\n",
       "      <td>Supervisor de Mantenimiento</td>\n",
       "      <td>MANTENIMIENTO</td>\n",
       "      <td>Mandos Medios</td>\n",
       "    </tr>\n",
       "  </tbody>\n",
       "</table>\n",
       "</div>"
      ],
      "text/plain": [
       "     Turno  ID Empleado     Apellido   Nombre ID Puesto  \\\n",
       "373    NaN          178       VALDEZ    FLORA  15-24100   \n",
       "167    NaN          269     Betancur  Jeisson  15-24100   \n",
       "1239   NaN          851  CASTELLANOS  ARACELI  80-22210   \n",
       "\n",
       "                                  Email                       Puesto  \\\n",
       "373          flora.valdez@tractchun.com     Supervisor de Producción   \n",
       "167      jeisson.betancur@tractchun.com     Supervisor de Producción   \n",
       "1239  araceli.castellanos@tractchun.com  Supervisor de Mantenimiento   \n",
       "\n",
       "       Departamento    Tipo Puesto  \n",
       "373      PRODUCCION  Mandos Medios  \n",
       "167      PRODUCCION  Mandos Medios  \n",
       "1239  MANTENIMIENTO  Mandos Medios  "
      ]
     },
     "execution_count": 29,
     "metadata": {},
     "output_type": "execute_result"
    }
   ],
   "source": [
    "dfe = pd.read_csv('empleados_puestos.csv', index_col = 0)\n",
    "dfe.sample(3)"
   ]
  },
  {
   "cell_type": "code",
   "execution_count": 31,
   "metadata": {},
   "outputs": [],
   "source": [
    "def nombre_completo(nombre, apellido):\n",
    "    try:\n",
    "        nc = nombre.title() + ' ' + apellido.title()\n",
    "        return nc\n",
    "    except:\n",
    "        return np.nan"
   ]
  },
  {
   "cell_type": "code",
   "execution_count": 36,
   "metadata": {},
   "outputs": [],
   "source": [
    "dfe['Nom_Completo'] = dfe.apply(lambda dataf: nombre_completo(dataf['Nombre'], dataf['Apellido']), axis = 1)"
   ]
  },
  {
   "cell_type": "code",
   "execution_count": 41,
   "metadata": {},
   "outputs": [],
   "source": [
    "dfe.drop('Apellido', axis = 1, inplace = True)\n",
    "dfe.drop('Nombre', axis = 1, inplace = True)"
   ]
  },
  {
   "cell_type": "code",
   "execution_count": 42,
   "metadata": {},
   "outputs": [
    {
     "data": {
      "text/html": [
       "<div>\n",
       "<style scoped>\n",
       "    .dataframe tbody tr th:only-of-type {\n",
       "        vertical-align: middle;\n",
       "    }\n",
       "\n",
       "    .dataframe tbody tr th {\n",
       "        vertical-align: top;\n",
       "    }\n",
       "\n",
       "    .dataframe thead th {\n",
       "        text-align: right;\n",
       "    }\n",
       "</style>\n",
       "<table border=\"1\" class=\"dataframe\">\n",
       "  <thead>\n",
       "    <tr style=\"text-align: right;\">\n",
       "      <th></th>\n",
       "      <th>Turno</th>\n",
       "      <th>ID Empleado</th>\n",
       "      <th>ID Puesto</th>\n",
       "      <th>Email</th>\n",
       "      <th>Puesto</th>\n",
       "      <th>Departamento</th>\n",
       "      <th>Tipo Puesto</th>\n",
       "      <th>Nom_Completo</th>\n",
       "    </tr>\n",
       "  </thead>\n",
       "  <tbody>\n",
       "    <tr>\n",
       "      <th>1756</th>\n",
       "      <td>NaN</td>\n",
       "      <td>1893</td>\n",
       "      <td>10-32100</td>\n",
       "      <td>eduardo.bejarano@tractchun.com</td>\n",
       "      <td>Supervisor de Almacén</td>\n",
       "      <td>MATERIALES</td>\n",
       "      <td>Mandos Medios</td>\n",
       "      <td>Eduardo Bejarano</td>\n",
       "    </tr>\n",
       "    <tr>\n",
       "      <th>1081</th>\n",
       "      <td>NaN</td>\n",
       "      <td>951</td>\n",
       "      <td>45-11000</td>\n",
       "      <td>guadalupe.machado@tractchun.com</td>\n",
       "      <td>Supervisor de Aseguramiento de Calidad</td>\n",
       "      <td>INGENIERIA DE CALIDAD</td>\n",
       "      <td>Mandos Medios</td>\n",
       "      <td>Guadalupe Machado</td>\n",
       "    </tr>\n",
       "    <tr>\n",
       "      <th>1396</th>\n",
       "      <td>NaN</td>\n",
       "      <td>311</td>\n",
       "      <td>15-24111</td>\n",
       "      <td>julio.chomina@tractchun.com</td>\n",
       "      <td>Operador de Producción</td>\n",
       "      <td>PRODUCCION</td>\n",
       "      <td>Operativo</td>\n",
       "      <td>Julio Chomina</td>\n",
       "    </tr>\n",
       "  </tbody>\n",
       "</table>\n",
       "</div>"
      ],
      "text/plain": [
       "     Turno  ID Empleado ID Puesto                            Email  \\\n",
       "1756   NaN         1893  10-32100   eduardo.bejarano@tractchun.com   \n",
       "1081   NaN          951  45-11000  guadalupe.machado@tractchun.com   \n",
       "1396   NaN          311  15-24111      julio.chomina@tractchun.com   \n",
       "\n",
       "                                      Puesto           Departamento  \\\n",
       "1756                   Supervisor de Almacén             MATERIALES   \n",
       "1081  Supervisor de Aseguramiento de Calidad  INGENIERIA DE CALIDAD   \n",
       "1396                  Operador de Producción             PRODUCCION   \n",
       "\n",
       "        Tipo Puesto       Nom_Completo  \n",
       "1756  Mandos Medios   Eduardo Bejarano  \n",
       "1081  Mandos Medios  Guadalupe Machado  \n",
       "1396      Operativo      Julio Chomina  "
      ]
     },
     "execution_count": 42,
     "metadata": {},
     "output_type": "execute_result"
    }
   ],
   "source": [
    "dfe.sample(3)"
   ]
  },
  {
   "attachments": {},
   "cell_type": "markdown",
   "metadata": {},
   "source": [
    "3- En el pair programming desde a dirección nos pedían que agruparamos los datos en base a la columna de \"categoría\", puede que en aquel momento nos dieramos cuenta que había varías categorías que eran igual (en concreto \"Acceso Login\") pero que en algunos casos tenía unos símbolos raros (&, %, -). \n",
    "\n",
    "Es el momento de limpiar esta columna. El objetivo, reemplazar todos estos símbolos raros por \"/\", para conseguir homogeneizar los valores de esta columna. Para ellos deberemos crear una función."
   ]
  },
  {
   "cell_type": "code",
   "execution_count": 43,
   "metadata": {},
   "outputs": [
    {
     "data": {
      "text/html": [
       "<div>\n",
       "<style scoped>\n",
       "    .dataframe tbody tr th:only-of-type {\n",
       "        vertical-align: middle;\n",
       "    }\n",
       "\n",
       "    .dataframe tbody tr th {\n",
       "        vertical-align: top;\n",
       "    }\n",
       "\n",
       "    .dataframe thead th {\n",
       "        text-align: right;\n",
       "    }\n",
       "</style>\n",
       "<table border=\"1\" class=\"dataframe\">\n",
       "  <thead>\n",
       "    <tr style=\"text-align: right;\">\n",
       "      <th></th>\n",
       "      <th>id_ticket</th>\n",
       "      <th>fecha</th>\n",
       "      <th>id_empleado</th>\n",
       "      <th>id_agente</th>\n",
       "      <th>categoría</th>\n",
       "      <th>tipo</th>\n",
       "      <th>severidad</th>\n",
       "      <th>prioridad</th>\n",
       "      <th>días_resolución</th>\n",
       "      <th>satisfacción</th>\n",
       "      <th>semestre</th>\n",
       "      <th>año</th>\n",
       "      <th>mes</th>\n",
       "    </tr>\n",
       "  </thead>\n",
       "  <tbody>\n",
       "    <tr>\n",
       "      <th>11362</th>\n",
       "      <td>SMLTSR-9342890996</td>\n",
       "      <td>2017-06-04</td>\n",
       "      <td>1909</td>\n",
       "      <td>49</td>\n",
       "      <td>Sistema</td>\n",
       "      <td>Solicitud</td>\n",
       "      <td>2 - Normal</td>\n",
       "      <td>2 - Media</td>\n",
       "      <td>12</td>\n",
       "      <td>5</td>\n",
       "      <td>1 semestre</td>\n",
       "      <td>2017</td>\n",
       "      <td>June</td>\n",
       "    </tr>\n",
       "    <tr>\n",
       "      <th>8720</th>\n",
       "      <td>SHLENT-5042522349</td>\n",
       "      <td>2016-06-01</td>\n",
       "      <td>104</td>\n",
       "      <td>3</td>\n",
       "      <td>Acceso&amp;%Login</td>\n",
       "      <td>Problema</td>\n",
       "      <td>2 - Normal</td>\n",
       "      <td>3 - Alta</td>\n",
       "      <td>0</td>\n",
       "      <td>5</td>\n",
       "      <td>1 semestre</td>\n",
       "      <td>2016</td>\n",
       "      <td>June</td>\n",
       "    </tr>\n",
       "  </tbody>\n",
       "</table>\n",
       "</div>"
      ],
      "text/plain": [
       "               id_ticket      fecha  id_empleado  id_agente      categoría  \\\n",
       "11362  SMLTSR-9342890996 2017-06-04         1909         49        Sistema   \n",
       "8720   SHLENT-5042522349 2016-06-01          104          3  Acceso&%Login   \n",
       "\n",
       "            tipo   severidad  prioridad  días_resolución  satisfacción  \\\n",
       "11362  Solicitud  2 - Normal  2 - Media               12             5   \n",
       "8720    Problema  2 - Normal   3 - Alta                0             5   \n",
       "\n",
       "         semestre   año   mes  \n",
       "11362  1 semestre  2017  June  \n",
       "8720   1 semestre  2016  June  "
      ]
     },
     "execution_count": 43,
     "metadata": {},
     "output_type": "execute_result"
    }
   ],
   "source": [
    "df.sample(2)"
   ]
  },
  {
   "cell_type": "code",
   "execution_count": 46,
   "metadata": {},
   "outputs": [
    {
     "data": {
      "text/plain": [
       "array(['Acceso&%Login', 'Sistema', 'Software', 'Hardware',\n",
       "       'Acceso%&Login', 'Acceso-&Login', 'Acceso99Login', 'Acceso/Login'],\n",
       "      dtype=object)"
      ]
     },
     "execution_count": 46,
     "metadata": {},
     "output_type": "execute_result"
    }
   ],
   "source": [
    "categorías = df['categoría'].unique()\n",
    "categorías"
   ]
  },
  {
   "cell_type": "code",
   "execution_count": 49,
   "metadata": {},
   "outputs": [],
   "source": [
    "def limpiar_cat(c):\n",
    "    if c == 'Acceso&%Login' or c == 'Acceso%&Login' or c == 'Acceso-&Login' or c == 'Acceso99Login':\n",
    "        return 'Acceso/Login'\n",
    "    else:\n",
    "        return c"
   ]
  },
  {
   "cell_type": "code",
   "execution_count": 50,
   "metadata": {},
   "outputs": [],
   "source": [
    "df['categoría'] = df['categoría'].apply(limpiar_cat)"
   ]
  },
  {
   "cell_type": "code",
   "execution_count": 52,
   "metadata": {},
   "outputs": [
    {
     "data": {
      "text/plain": [
       "array(['Acceso/Login', 'Sistema', 'Software', 'Hardware'], dtype=object)"
      ]
     },
     "execution_count": 52,
     "metadata": {},
     "output_type": "execute_result"
    }
   ],
   "source": [
    "df['categoría'].unique()"
   ]
  },
  {
   "attachments": {},
   "cell_type": "markdown",
   "metadata": {},
   "source": [
    "4- Una vez que hayáis terminado eliminad las columnas originales conservando las nuevas."
   ]
  },
  {
   "cell_type": "code",
   "execution_count": 54,
   "metadata": {},
   "outputs": [
    {
     "data": {
      "text/html": [
       "<div>\n",
       "<style scoped>\n",
       "    .dataframe tbody tr th:only-of-type {\n",
       "        vertical-align: middle;\n",
       "    }\n",
       "\n",
       "    .dataframe tbody tr th {\n",
       "        vertical-align: top;\n",
       "    }\n",
       "\n",
       "    .dataframe thead th {\n",
       "        text-align: right;\n",
       "    }\n",
       "</style>\n",
       "<table border=\"1\" class=\"dataframe\">\n",
       "  <thead>\n",
       "    <tr style=\"text-align: right;\">\n",
       "      <th></th>\n",
       "      <th>id_ticket</th>\n",
       "      <th>fecha</th>\n",
       "      <th>id_empleado</th>\n",
       "      <th>id_agente</th>\n",
       "      <th>categoría</th>\n",
       "      <th>tipo</th>\n",
       "      <th>severidad</th>\n",
       "      <th>prioridad</th>\n",
       "      <th>días_resolución</th>\n",
       "      <th>satisfacción</th>\n",
       "      <th>semestre</th>\n",
       "      <th>año</th>\n",
       "      <th>mes</th>\n",
       "    </tr>\n",
       "  </thead>\n",
       "  <tbody>\n",
       "    <tr>\n",
       "      <th>23022</th>\n",
       "      <td>SWLTSR-9244129764</td>\n",
       "      <td>2020-10-25</td>\n",
       "      <td>456</td>\n",
       "      <td>7</td>\n",
       "      <td>Sistema</td>\n",
       "      <td>Solicitud</td>\n",
       "      <td>2 - Normal</td>\n",
       "      <td>1 - Baja</td>\n",
       "      <td>12</td>\n",
       "      <td>5</td>\n",
       "      <td>2º semestre</td>\n",
       "      <td>2020</td>\n",
       "      <td>October</td>\n",
       "    </tr>\n",
       "    <tr>\n",
       "      <th>415</th>\n",
       "      <td>GDLEST-8343771301</td>\n",
       "      <td>2019-11-02</td>\n",
       "      <td>1500</td>\n",
       "      <td>43</td>\n",
       "      <td>Sistema</td>\n",
       "      <td>Problema</td>\n",
       "      <td>2 - Normal</td>\n",
       "      <td>0 - Sin Asignar</td>\n",
       "      <td>3</td>\n",
       "      <td>5</td>\n",
       "      <td>2º semestre</td>\n",
       "      <td>2019</td>\n",
       "      <td>November</td>\n",
       "    </tr>\n",
       "    <tr>\n",
       "      <th>7880</th>\n",
       "      <td>KMLTSR-3942904157</td>\n",
       "      <td>2017-06-18</td>\n",
       "      <td>565</td>\n",
       "      <td>41</td>\n",
       "      <td>Sistema</td>\n",
       "      <td>Solicitud</td>\n",
       "      <td>2 - Normal</td>\n",
       "      <td>2 - Media</td>\n",
       "      <td>9</td>\n",
       "      <td>4</td>\n",
       "      <td>1 semestre</td>\n",
       "      <td>2017</td>\n",
       "      <td>June</td>\n",
       "    </tr>\n",
       "    <tr>\n",
       "      <th>14244</th>\n",
       "      <td>KMLENT-9044110493</td>\n",
       "      <td>2020-10-06</td>\n",
       "      <td>329</td>\n",
       "      <td>14</td>\n",
       "      <td>Acceso/Login</td>\n",
       "      <td>Problema</td>\n",
       "      <td>2 - Normal</td>\n",
       "      <td>2 - Media</td>\n",
       "      <td>0</td>\n",
       "      <td>5</td>\n",
       "      <td>2º semestre</td>\n",
       "      <td>2020</td>\n",
       "      <td>October</td>\n",
       "    </tr>\n",
       "  </tbody>\n",
       "</table>\n",
       "</div>"
      ],
      "text/plain": [
       "               id_ticket      fecha  id_empleado  id_agente     categoría  \\\n",
       "23022  SWLTSR-9244129764 2020-10-25          456          7       Sistema   \n",
       "415    GDLEST-8343771301 2019-11-02         1500         43       Sistema   \n",
       "7880   KMLTSR-3942904157 2017-06-18          565         41       Sistema   \n",
       "14244  KMLENT-9044110493 2020-10-06          329         14  Acceso/Login   \n",
       "\n",
       "            tipo   severidad        prioridad  días_resolución  satisfacción  \\\n",
       "23022  Solicitud  2 - Normal         1 - Baja               12             5   \n",
       "415     Problema  2 - Normal  0 - Sin Asignar                3             5   \n",
       "7880   Solicitud  2 - Normal        2 - Media                9             4   \n",
       "14244   Problema  2 - Normal        2 - Media                0             5   \n",
       "\n",
       "          semestre   año       mes  \n",
       "23022  2º semestre  2020   October  \n",
       "415    2º semestre  2019  November  \n",
       "7880    1 semestre  2017      June  \n",
       "14244  2º semestre  2020   October  "
      ]
     },
     "execution_count": 54,
     "metadata": {},
     "output_type": "execute_result"
    }
   ],
   "source": [
    "df.sample(4)"
   ]
  },
  {
   "attachments": {},
   "cell_type": "markdown",
   "metadata": {},
   "source": [
    "5- Guardad el dataframe en un csv que usaremos más adelante"
   ]
  },
  {
   "cell_type": "code",
   "execution_count": 55,
   "metadata": {},
   "outputs": [],
   "source": [
    "df.to_csv(\"datos/tickets_final.csv\")\n",
    "dfe.to_csv(\"datos/empleados_final.csv\")"
   ]
  }
 ],
 "metadata": {
  "kernelspec": {
   "display_name": "base",
   "language": "python",
   "name": "python3"
  },
  "language_info": {
   "codemirror_mode": {
    "name": "ipython",
    "version": 3
   },
   "file_extension": ".py",
   "mimetype": "text/x-python",
   "name": "python",
   "nbconvert_exporter": "python",
   "pygments_lexer": "ipython3",
   "version": "3.9.7"
  },
  "orig_nbformat": 4
 },
 "nbformat": 4,
 "nbformat_minor": 2
}
