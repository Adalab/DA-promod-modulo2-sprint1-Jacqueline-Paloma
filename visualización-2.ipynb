{
 "cells": [
  {
   "attachments": {},
   "cell_type": "markdown",
   "metadata": {},
   "source": [
    "Ejercicio 1º Ayer creamos un par de gráficas para los tickets de la categoría \"Software\" y \"Hardware\", donde visualizamos el número de clientes que teníamos en cada grupo de satisfacción. Hoy tendréis que hacer dos gráficas con subplots:\n",
    "En la primera debéis mostrar la cantidad de tickets en función del tipo (si es Problema o Solicitud), cada subplot corresponderá a cada una de las categorías. Debéis:\n",
    "-Poner nombre a los ejes de cada uno de los subplots\n",
    "-Poner un títulos a cada uno de los subplots\n",
    "-Poner el color de las líneas en negro.\n",
    "-Establecer el tamaño de la gráfica a 15 x 5\n",
    "-Ponerle marcadores a las gráficas\n",
    "-No incluir leyenda\n",
    "\n"
   ]
  },
  {
   "cell_type": "code",
   "execution_count": 16,
   "metadata": {},
   "outputs": [],
   "source": [
    "import matplotlib.pyplot as plt\n",
    "import numpy as np\n",
    "import pandas as pd"
   ]
  },
  {
   "cell_type": "code",
   "execution_count": 17,
   "metadata": {},
   "outputs": [
    {
     "data": {
      "text/html": [
       "<div>\n",
       "<style scoped>\n",
       "    .dataframe tbody tr th:only-of-type {\n",
       "        vertical-align: middle;\n",
       "    }\n",
       "\n",
       "    .dataframe tbody tr th {\n",
       "        vertical-align: top;\n",
       "    }\n",
       "\n",
       "    .dataframe thead th {\n",
       "        text-align: right;\n",
       "    }\n",
       "</style>\n",
       "<table border=\"1\" class=\"dataframe\">\n",
       "  <thead>\n",
       "    <tr style=\"text-align: right;\">\n",
       "      <th></th>\n",
       "      <th>Unnamed: 0</th>\n",
       "      <th>Turno</th>\n",
       "      <th>ID Empleado</th>\n",
       "      <th>Apellido</th>\n",
       "      <th>Nombre</th>\n",
       "      <th>ID Puesto</th>\n",
       "      <th>Email</th>\n",
       "      <th>Puesto</th>\n",
       "      <th>Departamento</th>\n",
       "      <th>Tipo Puesto</th>\n",
       "    </tr>\n",
       "  </thead>\n",
       "  <tbody>\n",
       "    <tr>\n",
       "      <th>1187</th>\n",
       "      <td>1187</td>\n",
       "      <td>NaN</td>\n",
       "      <td>410</td>\n",
       "      <td>ESCALANTE</td>\n",
       "      <td>ERIKA</td>\n",
       "      <td>80-22210</td>\n",
       "      <td>erika.escalante@tractchun.com</td>\n",
       "      <td>Supervisor de Mantenimiento</td>\n",
       "      <td>MANTENIMIENTO</td>\n",
       "      <td>Mandos Medios</td>\n",
       "    </tr>\n",
       "    <tr>\n",
       "      <th>361</th>\n",
       "      <td>361</td>\n",
       "      <td>NaN</td>\n",
       "      <td>1581</td>\n",
       "      <td>GRAJEDA</td>\n",
       "      <td>GERARDO</td>\n",
       "      <td>15-24100</td>\n",
       "      <td>gerardo.grajeda@tractchun.com</td>\n",
       "      <td>Supervisor de Producción</td>\n",
       "      <td>PRODUCCION</td>\n",
       "      <td>Mandos Medios</td>\n",
       "    </tr>\n",
       "    <tr>\n",
       "      <th>820</th>\n",
       "      <td>820</td>\n",
       "      <td>NaN</td>\n",
       "      <td>1558</td>\n",
       "      <td>Rua</td>\n",
       "      <td>Yenifer</td>\n",
       "      <td>10-32110</td>\n",
       "      <td>yenifer.rua@tractchun.com</td>\n",
       "      <td>Almacenista</td>\n",
       "      <td>MATERIALES</td>\n",
       "      <td>Administrativo</td>\n",
       "    </tr>\n",
       "  </tbody>\n",
       "</table>\n",
       "</div>"
      ],
      "text/plain": [
       "      Unnamed: 0 Turno  ID Empleado   Apellido   Nombre ID Puesto  \\\n",
       "1187        1187   NaN          410  ESCALANTE    ERIKA  80-22210   \n",
       "361          361   NaN         1581    GRAJEDA  GERARDO  15-24100   \n",
       "820          820   NaN         1558        Rua  Yenifer  10-32110   \n",
       "\n",
       "                              Email                       Puesto  \\\n",
       "1187  erika.escalante@tractchun.com  Supervisor de Mantenimiento   \n",
       "361   gerardo.grajeda@tractchun.com     Supervisor de Producción   \n",
       "820       yenifer.rua@tractchun.com                  Almacenista   \n",
       "\n",
       "       Departamento     Tipo Puesto  \n",
       "1187  MANTENIMIENTO   Mandos Medios  \n",
       "361      PRODUCCION   Mandos Medios  \n",
       "820      MATERIALES  Administrativo  "
      ]
     },
     "execution_count": 17,
     "metadata": {},
     "output_type": "execute_result"
    }
   ],
   "source": [
    "df_ep = pd.read_csv(\"datos/empleados_puestos (1).csv\")\n",
    "df_ep.sample(3)\n"
   ]
  },
  {
   "cell_type": "code",
   "execution_count": 18,
   "metadata": {},
   "outputs": [
    {
     "data": {
      "text/html": [
       "<div>\n",
       "<style scoped>\n",
       "    .dataframe tbody tr th:only-of-type {\n",
       "        vertical-align: middle;\n",
       "    }\n",
       "\n",
       "    .dataframe tbody tr th {\n",
       "        vertical-align: top;\n",
       "    }\n",
       "\n",
       "    .dataframe thead th {\n",
       "        text-align: right;\n",
       "    }\n",
       "</style>\n",
       "<table border=\"1\" class=\"dataframe\">\n",
       "  <thead>\n",
       "    <tr style=\"text-align: right;\">\n",
       "      <th></th>\n",
       "      <th>Unnamed: 0</th>\n",
       "      <th>id_ticket</th>\n",
       "      <th>fecha</th>\n",
       "      <th>id_empleado</th>\n",
       "      <th>id_agente</th>\n",
       "      <th>categoría</th>\n",
       "      <th>tipo</th>\n",
       "      <th>severidad</th>\n",
       "      <th>prioridad</th>\n",
       "      <th>días_resolución</th>\n",
       "      <th>satisfacción</th>\n",
       "      <th>semestre</th>\n",
       "      <th>año</th>\n",
       "    </tr>\n",
       "  </thead>\n",
       "  <tbody>\n",
       "    <tr>\n",
       "      <th>15756</th>\n",
       "      <td>2817</td>\n",
       "      <td>GHREER-9442794718</td>\n",
       "      <td>2017-02-28</td>\n",
       "      <td>1341</td>\n",
       "      <td>47</td>\n",
       "      <td>Software</td>\n",
       "      <td>Problema</td>\n",
       "      <td>3 - Mayor</td>\n",
       "      <td>3 - Alta</td>\n",
       "      <td>4</td>\n",
       "      <td>5</td>\n",
       "      <td>1 semestre</td>\n",
       "      <td>2017</td>\n",
       "    </tr>\n",
       "    <tr>\n",
       "      <th>72876</th>\n",
       "      <td>4578</td>\n",
       "      <td>GHLTNT-2044033740</td>\n",
       "      <td>2020-07-21</td>\n",
       "      <td>964</td>\n",
       "      <td>27</td>\n",
       "      <td>Acceso/Login</td>\n",
       "      <td>Solicitud</td>\n",
       "      <td>2 - Normal</td>\n",
       "      <td>3 - Alta</td>\n",
       "      <td>0</td>\n",
       "      <td>5</td>\n",
       "      <td>2º semestre</td>\n",
       "      <td>2020</td>\n",
       "    </tr>\n",
       "    <tr>\n",
       "      <th>83428</th>\n",
       "      <td>15130</td>\n",
       "      <td>KMLTSR-6644091259</td>\n",
       "      <td>2020-09-17</td>\n",
       "      <td>245</td>\n",
       "      <td>2</td>\n",
       "      <td>Sistema</td>\n",
       "      <td>Solicitud</td>\n",
       "      <td>2 - Normal</td>\n",
       "      <td>2 - Media</td>\n",
       "      <td>6</td>\n",
       "      <td>4</td>\n",
       "      <td>2º semestre</td>\n",
       "      <td>2020</td>\n",
       "    </tr>\n",
       "  </tbody>\n",
       "</table>\n",
       "</div>"
      ],
      "text/plain": [
       "       Unnamed: 0          id_ticket       fecha  id_empleado  id_agente  \\\n",
       "15756        2817  GHREER-9442794718  2017-02-28         1341         47   \n",
       "72876        4578  GHLTNT-2044033740  2020-07-21          964         27   \n",
       "83428       15130  KMLTSR-6644091259  2020-09-17          245          2   \n",
       "\n",
       "          categoría       tipo   severidad  prioridad  días_resolución  \\\n",
       "15756      Software   Problema   3 - Mayor   3 - Alta                4   \n",
       "72876  Acceso/Login  Solicitud  2 - Normal   3 - Alta                0   \n",
       "83428       Sistema  Solicitud  2 - Normal  2 - Media                6   \n",
       "\n",
       "       satisfacción     semestre   año  \n",
       "15756             5   1 semestre  2017  \n",
       "72876             5  2º semestre  2020  \n",
       "83428             4  2º semestre  2020  "
      ]
     },
     "execution_count": 18,
     "metadata": {},
     "output_type": "execute_result"
    }
   ],
   "source": [
    "df_ht= pd.read_csv(\"datos/historico_tickets (1).csv\")\n",
    "df_ht.sample(3)"
   ]
  },
  {
   "cell_type": "code",
   "execution_count": 19,
   "metadata": {},
   "outputs": [
    {
     "data": {
      "text/plain": [
       "Solicitud    73138\n",
       "Problema     24248\n",
       "Name: tipo, dtype: int64"
      ]
     },
     "execution_count": 19,
     "metadata": {},
     "output_type": "execute_result"
    }
   ],
   "source": [
    "sp = df_ht[\"tipo\"].value_counts()\n",
    "sp"
   ]
  },
  {
   "cell_type": "code",
   "execution_count": 20,
   "metadata": {},
   "outputs": [
    {
     "data": {
      "text/plain": [
       "Sistema          38961\n",
       "Software         19543\n",
       "Hardware          9717\n",
       "Acceso/Login      8659\n",
       "Acceso99Login     6426\n",
       "Acceso-&Login     5672\n",
       "Acceso%&Login     4526\n",
       "Acceso&%Login     3882\n",
       "Name: categoría, dtype: int64"
      ]
     },
     "execution_count": 20,
     "metadata": {},
     "output_type": "execute_result"
    }
   ],
   "source": [
    "sp1=df_ht[\"categoría\"].value_counts()\n",
    "sp1"
   ]
  },
  {
   "cell_type": "code",
   "execution_count": 21,
   "metadata": {},
   "outputs": [
    {
     "data": {
      "text/html": [
       "<div>\n",
       "<style scoped>\n",
       "    .dataframe tbody tr th:only-of-type {\n",
       "        vertical-align: middle;\n",
       "    }\n",
       "\n",
       "    .dataframe tbody tr th {\n",
       "        vertical-align: top;\n",
       "    }\n",
       "\n",
       "    .dataframe thead th {\n",
       "        text-align: right;\n",
       "    }\n",
       "</style>\n",
       "<table border=\"1\" class=\"dataframe\">\n",
       "  <thead>\n",
       "    <tr style=\"text-align: right;\">\n",
       "      <th></th>\n",
       "      <th>index</th>\n",
       "      <th>Unnamed: 0</th>\n",
       "      <th>id_ticket</th>\n",
       "      <th>fecha</th>\n",
       "      <th>id_empleado</th>\n",
       "      <th>id_agente</th>\n",
       "      <th>categoría</th>\n",
       "      <th>tipo</th>\n",
       "      <th>severidad</th>\n",
       "      <th>prioridad</th>\n",
       "      <th>días_resolución</th>\n",
       "      <th>satisfacción</th>\n",
       "      <th>semestre</th>\n",
       "      <th>año</th>\n",
       "    </tr>\n",
       "  </thead>\n",
       "  <tbody>\n",
       "    <tr>\n",
       "      <th>6486</th>\n",
       "      <td>32569</td>\n",
       "      <td>4715</td>\n",
       "      <td>GMRTER-4043151426</td>\n",
       "      <td>2018-02-20</td>\n",
       "      <td>172</td>\n",
       "      <td>24</td>\n",
       "      <td>Software</td>\n",
       "      <td>Solicitud</td>\n",
       "      <td>3 - Mayor</td>\n",
       "      <td>2 - Media</td>\n",
       "      <td>10</td>\n",
       "      <td>5</td>\n",
       "      <td>1 semestre</td>\n",
       "      <td>2018</td>\n",
       "    </tr>\n",
       "    <tr>\n",
       "      <th>13865</th>\n",
       "      <td>68953</td>\n",
       "      <td>655</td>\n",
       "      <td>GDLTER-1744187196</td>\n",
       "      <td>2020-12-22</td>\n",
       "      <td>409</td>\n",
       "      <td>31</td>\n",
       "      <td>Software</td>\n",
       "      <td>Solicitud</td>\n",
       "      <td>2 - Normal</td>\n",
       "      <td>0 - Sin Asignar</td>\n",
       "      <td>7</td>\n",
       "      <td>5</td>\n",
       "      <td>2º semestre</td>\n",
       "      <td>2020</td>\n",
       "    </tr>\n",
       "    <tr>\n",
       "      <th>992</th>\n",
       "      <td>4911</td>\n",
       "      <td>4964</td>\n",
       "      <td>KDRTER-2242619263</td>\n",
       "      <td>2016-09-06</td>\n",
       "      <td>646</td>\n",
       "      <td>42</td>\n",
       "      <td>Software</td>\n",
       "      <td>Solicitud</td>\n",
       "      <td>1 - Menor</td>\n",
       "      <td>0 - Sin Asignar</td>\n",
       "      <td>2</td>\n",
       "      <td>4</td>\n",
       "      <td>2º semestre</td>\n",
       "      <td>2016</td>\n",
       "    </tr>\n",
       "  </tbody>\n",
       "</table>\n",
       "</div>"
      ],
      "text/plain": [
       "       index  Unnamed: 0          id_ticket       fecha  id_empleado  \\\n",
       "6486   32569        4715  GMRTER-4043151426  2018-02-20          172   \n",
       "13865  68953         655  GDLTER-1744187196  2020-12-22          409   \n",
       "992     4911        4964  KDRTER-2242619263  2016-09-06          646   \n",
       "\n",
       "       id_agente categoría       tipo   severidad        prioridad  \\\n",
       "6486          24  Software  Solicitud   3 - Mayor        2 - Media   \n",
       "13865         31  Software  Solicitud  2 - Normal  0 - Sin Asignar   \n",
       "992           42  Software  Solicitud   1 - Menor  0 - Sin Asignar   \n",
       "\n",
       "       días_resolución  satisfacción     semestre   año  \n",
       "6486                10             5   1 semestre  2018  \n",
       "13865                7             5  2º semestre  2020  \n",
       "992                  2             4  2º semestre  2016  "
      ]
     },
     "execution_count": 21,
     "metadata": {},
     "output_type": "execute_result"
    }
   ],
   "source": [
    "\n",
    "df_Software = df_ht[df_ht[\"categoría\"]== \"Software\"].reset_index()\n",
    "df_Software.sample(3)\n"
   ]
  },
  {
   "cell_type": "code",
   "execution_count": 26,
   "metadata": {},
   "outputs": [
    {
     "data": {
      "text/html": [
       "<div>\n",
       "<style scoped>\n",
       "    .dataframe tbody tr th:only-of-type {\n",
       "        vertical-align: middle;\n",
       "    }\n",
       "\n",
       "    .dataframe tbody tr th {\n",
       "        vertical-align: top;\n",
       "    }\n",
       "\n",
       "    .dataframe thead th {\n",
       "        text-align: right;\n",
       "    }\n",
       "</style>\n",
       "<table border=\"1\" class=\"dataframe\">\n",
       "  <thead>\n",
       "    <tr style=\"text-align: right;\">\n",
       "      <th></th>\n",
       "      <th>index</th>\n",
       "      <th>tipo</th>\n",
       "    </tr>\n",
       "  </thead>\n",
       "  <tbody>\n",
       "    <tr>\n",
       "      <th>0</th>\n",
       "      <td>Solicitud</td>\n",
       "      <td>14618</td>\n",
       "    </tr>\n",
       "    <tr>\n",
       "      <th>1</th>\n",
       "      <td>Problema</td>\n",
       "      <td>4925</td>\n",
       "    </tr>\n",
       "  </tbody>\n",
       "</table>\n",
       "</div>"
      ],
      "text/plain": [
       "       index   tipo\n",
       "0  Solicitud  14618\n",
       "1   Problema   4925"
      ]
     },
     "execution_count": 26,
     "metadata": {},
     "output_type": "execute_result"
    }
   ],
   "source": [
    "sof_tipo = df_Software[\"tipo\"].value_counts().reset_index()\n",
    "sof_tipo\n"
   ]
  },
  {
   "cell_type": "code",
   "execution_count": 23,
   "metadata": {},
   "outputs": [
    {
     "data": {
      "text/html": [
       "<div>\n",
       "<style scoped>\n",
       "    .dataframe tbody tr th:only-of-type {\n",
       "        vertical-align: middle;\n",
       "    }\n",
       "\n",
       "    .dataframe tbody tr th {\n",
       "        vertical-align: top;\n",
       "    }\n",
       "\n",
       "    .dataframe thead th {\n",
       "        text-align: right;\n",
       "    }\n",
       "</style>\n",
       "<table border=\"1\" class=\"dataframe\">\n",
       "  <thead>\n",
       "    <tr style=\"text-align: right;\">\n",
       "      <th></th>\n",
       "      <th>index</th>\n",
       "      <th>Unnamed: 0</th>\n",
       "      <th>id_ticket</th>\n",
       "      <th>fecha</th>\n",
       "      <th>id_empleado</th>\n",
       "      <th>id_agente</th>\n",
       "      <th>categoría</th>\n",
       "      <th>tipo</th>\n",
       "      <th>severidad</th>\n",
       "      <th>prioridad</th>\n",
       "      <th>días_resolución</th>\n",
       "      <th>satisfacción</th>\n",
       "      <th>semestre</th>\n",
       "      <th>año</th>\n",
       "    </tr>\n",
       "  </thead>\n",
       "  <tbody>\n",
       "    <tr>\n",
       "      <th>7368</th>\n",
       "      <td>72360</td>\n",
       "      <td>4062</td>\n",
       "      <td>GHLTET-9244052325</td>\n",
       "      <td>2020-08-09</td>\n",
       "      <td>1652</td>\n",
       "      <td>43</td>\n",
       "      <td>Hardware</td>\n",
       "      <td>Solicitud</td>\n",
       "      <td>2 - Normal</td>\n",
       "      <td>3 - Alta</td>\n",
       "      <td>5</td>\n",
       "      <td>5</td>\n",
       "      <td>2º semestre</td>\n",
       "      <td>2020</td>\n",
       "    </tr>\n",
       "    <tr>\n",
       "      <th>7599</th>\n",
       "      <td>75970</td>\n",
       "      <td>7672</td>\n",
       "      <td>GWLTER-0243846649</td>\n",
       "      <td>2020-01-16</td>\n",
       "      <td>144</td>\n",
       "      <td>36</td>\n",
       "      <td>Hardware</td>\n",
       "      <td>Solicitud</td>\n",
       "      <td>2 - Normal</td>\n",
       "      <td>1 - Baja</td>\n",
       "      <td>0</td>\n",
       "      <td>5</td>\n",
       "      <td>1 semestre</td>\n",
       "      <td>2020</td>\n",
       "    </tr>\n",
       "    <tr>\n",
       "      <th>2639</th>\n",
       "      <td>26160</td>\n",
       "      <td>13221</td>\n",
       "      <td>THLTER-9143041812</td>\n",
       "      <td>2017-11-02</td>\n",
       "      <td>161</td>\n",
       "      <td>38</td>\n",
       "      <td>Hardware</td>\n",
       "      <td>Solicitud</td>\n",
       "      <td>2 - Normal</td>\n",
       "      <td>3 - Alta</td>\n",
       "      <td>6</td>\n",
       "      <td>5</td>\n",
       "      <td>2º semestre</td>\n",
       "      <td>2017</td>\n",
       "    </tr>\n",
       "  </tbody>\n",
       "</table>\n",
       "</div>"
      ],
      "text/plain": [
       "      index  Unnamed: 0          id_ticket       fecha  id_empleado  \\\n",
       "7368  72360        4062  GHLTET-9244052325  2020-08-09         1652   \n",
       "7599  75970        7672  GWLTER-0243846649  2020-01-16          144   \n",
       "2639  26160       13221  THLTER-9143041812  2017-11-02          161   \n",
       "\n",
       "      id_agente categoría       tipo   severidad prioridad  días_resolución  \\\n",
       "7368         43  Hardware  Solicitud  2 - Normal  3 - Alta                5   \n",
       "7599         36  Hardware  Solicitud  2 - Normal  1 - Baja                0   \n",
       "2639         38  Hardware  Solicitud  2 - Normal  3 - Alta                6   \n",
       "\n",
       "      satisfacción     semestre   año  \n",
       "7368             5  2º semestre  2020  \n",
       "7599             5   1 semestre  2020  \n",
       "2639             5  2º semestre  2017  "
      ]
     },
     "execution_count": 23,
     "metadata": {},
     "output_type": "execute_result"
    }
   ],
   "source": [
    "df_Hardware = df_ht[df_ht[\"categoría\"]== \"Hardware\"].reset_index()\n",
    "df_Hardware.sample(3)\n"
   ]
  },
  {
   "cell_type": "code",
   "execution_count": 51,
   "metadata": {},
   "outputs": [
    {
     "data": {
      "text/html": [
       "<div>\n",
       "<style scoped>\n",
       "    .dataframe tbody tr th:only-of-type {\n",
       "        vertical-align: middle;\n",
       "    }\n",
       "\n",
       "    .dataframe tbody tr th {\n",
       "        vertical-align: top;\n",
       "    }\n",
       "\n",
       "    .dataframe thead th {\n",
       "        text-align: right;\n",
       "    }\n",
       "</style>\n",
       "<table border=\"1\" class=\"dataframe\">\n",
       "  <thead>\n",
       "    <tr style=\"text-align: right;\">\n",
       "      <th></th>\n",
       "      <th>index</th>\n",
       "      <th>tipo</th>\n",
       "    </tr>\n",
       "  </thead>\n",
       "  <tbody>\n",
       "    <tr>\n",
       "      <th>0</th>\n",
       "      <td>Solicitud</td>\n",
       "      <td>7356</td>\n",
       "    </tr>\n",
       "    <tr>\n",
       "      <th>1</th>\n",
       "      <td>Problema</td>\n",
       "      <td>2361</td>\n",
       "    </tr>\n",
       "  </tbody>\n",
       "</table>\n",
       "</div>"
      ],
      "text/plain": [
       "       index  tipo\n",
       "0  Solicitud  7356\n",
       "1   Problema  2361"
      ]
     },
     "execution_count": 51,
     "metadata": {},
     "output_type": "execute_result"
    }
   ],
   "source": [
    "hd_tipo = df_Hardware[\"tipo\"].value_counts().reset_index()\n",
    "hd_tipo"
   ]
  },
  {
   "cell_type": "code",
   "execution_count": 53,
   "metadata": {},
   "outputs": [
    {
     "data": {
      "image/png": "[encoded data removed]",
      "text/plain": [
       "<Figure size 1080x360 with 2 Axes>"
      ]
     },
     "metadata": {
      "needs_background": "light"
     },
     "output_type": "display_data"
    }
   ],
   "source": [
    "fig, ax = plt.subplots(1,2, figsize = (15,5))\n",
    "ax[0].bar(hd_tipo[\"index\"],hd_tipo[\"tipo\"], color =\"blue\", edgecolor = \"black\")\n",
    "ax[1].bar(sof_tipo[\"index\"],sof_tipo[\"tipo\"], color = \"green\", edgecolor = \"black\")\n",
    "ax[0].set_title(\"Gráfico Hardware\")\n",
    "ax[1]. set_title(\"Grafico Software\")\n",
    "ax[0].set_xlabel(\"tipos de incidencia\")\n",
    "ax[1].set_ylabel(\"números\")\n",
    "ax[0].set_ylabel(\"números\") \n",
    "ax[1].set_xlabel(\"tipos de incidencia\")\n",
    "plt.show()"
   ]
  },
  {
   "attachments": {},
   "cell_type": "markdown",
   "metadata": {},
   "source": [
    "En la segunda debéis mostrar el número de tickets en función de la satisfacción.\n",
    "-De nuevo tendréis que ponerle nombre a los ejes y título a cada gráfica\n",
    "-En este caso el subplot deberá tener dos filas y una columna\n",
    "-No incluir leyenda\n",
    "-Cambiar el color de las barras\n",
    "\n"
   ]
  },
  {
   "cell_type": "code",
   "execution_count": 44,
   "metadata": {},
   "outputs": [
    {
     "data": {
      "text/html": [
       "<div>\n",
       "<style scoped>\n",
       "    .dataframe tbody tr th:only-of-type {\n",
       "        vertical-align: middle;\n",
       "    }\n",
       "\n",
       "    .dataframe tbody tr th {\n",
       "        vertical-align: top;\n",
       "    }\n",
       "\n",
       "    .dataframe thead th {\n",
       "        text-align: right;\n",
       "    }\n",
       "</style>\n",
       "<table border=\"1\" class=\"dataframe\">\n",
       "  <thead>\n",
       "    <tr style=\"text-align: right;\">\n",
       "      <th></th>\n",
       "      <th>index</th>\n",
       "      <th>satisfacción</th>\n",
       "    </tr>\n",
       "  </thead>\n",
       "  <tbody>\n",
       "    <tr>\n",
       "      <th>0</th>\n",
       "      <td>5</td>\n",
       "      <td>5101</td>\n",
       "    </tr>\n",
       "    <tr>\n",
       "      <th>1</th>\n",
       "      <td>4</td>\n",
       "      <td>2687</td>\n",
       "    </tr>\n",
       "    <tr>\n",
       "      <th>2</th>\n",
       "      <td>1</td>\n",
       "      <td>1000</td>\n",
       "    </tr>\n",
       "    <tr>\n",
       "      <th>3</th>\n",
       "      <td>3</td>\n",
       "      <td>744</td>\n",
       "    </tr>\n",
       "    <tr>\n",
       "      <th>4</th>\n",
       "      <td>2</td>\n",
       "      <td>185</td>\n",
       "    </tr>\n",
       "  </tbody>\n",
       "</table>\n",
       "</div>"
      ],
      "text/plain": [
       "   index  satisfacción\n",
       "0      5          5101\n",
       "1      4          2687\n",
       "2      1          1000\n",
       "3      3           744\n",
       "4      2           185"
      ]
     },
     "execution_count": 44,
     "metadata": {},
     "output_type": "execute_result"
    }
   ],
   "source": [
    "hd_satisfacción = df_Hardware[\"satisfacción\"].value_counts().reset_index()\n",
    "hd_satisfacción"
   ]
  },
  {
   "cell_type": "code",
   "execution_count": 45,
   "metadata": {},
   "outputs": [
    {
     "data": {
      "text/html": [
       "<div>\n",
       "<style scoped>\n",
       "    .dataframe tbody tr th:only-of-type {\n",
       "        vertical-align: middle;\n",
       "    }\n",
       "\n",
       "    .dataframe tbody tr th {\n",
       "        vertical-align: top;\n",
       "    }\n",
       "\n",
       "    .dataframe thead th {\n",
       "        text-align: right;\n",
       "    }\n",
       "</style>\n",
       "<table border=\"1\" class=\"dataframe\">\n",
       "  <thead>\n",
       "    <tr style=\"text-align: right;\">\n",
       "      <th></th>\n",
       "      <th>index</th>\n",
       "      <th>satisfacción</th>\n",
       "    </tr>\n",
       "  </thead>\n",
       "  <tbody>\n",
       "    <tr>\n",
       "      <th>0</th>\n",
       "      <td>5</td>\n",
       "      <td>10236</td>\n",
       "    </tr>\n",
       "    <tr>\n",
       "      <th>1</th>\n",
       "      <td>4</td>\n",
       "      <td>5485</td>\n",
       "    </tr>\n",
       "    <tr>\n",
       "      <th>2</th>\n",
       "      <td>1</td>\n",
       "      <td>1969</td>\n",
       "    </tr>\n",
       "    <tr>\n",
       "      <th>3</th>\n",
       "      <td>3</td>\n",
       "      <td>1465</td>\n",
       "    </tr>\n",
       "    <tr>\n",
       "      <th>4</th>\n",
       "      <td>2</td>\n",
       "      <td>388</td>\n",
       "    </tr>\n",
       "  </tbody>\n",
       "</table>\n",
       "</div>"
      ],
      "text/plain": [
       "   index  satisfacción\n",
       "0      5         10236\n",
       "1      4          5485\n",
       "2      1          1969\n",
       "3      3          1465\n",
       "4      2           388"
      ]
     },
     "execution_count": 45,
     "metadata": {},
     "output_type": "execute_result"
    }
   ],
   "source": [
    "sof_satisfacción = df_Software[\"satisfacción\"].value_counts().reset_index()\n",
    "sof_satisfacción"
   ]
  },
  {
   "cell_type": "code",
   "execution_count": 61,
   "metadata": {},
   "outputs": [
    {
     "data": {
      "image/png": "[encoded data removed]",
      "text/plain": [
       "<Figure size 1080x360 with 2 Axes>"
      ]
     },
     "metadata": {
      "needs_background": "light"
     },
     "output_type": "display_data"
    }
   ],
   "source": [
    "fig, ax = plt.subplots(1,2, figsize = (15,5))\n",
    "ax[0].bar(hd_satisfacción[\"index\"],hd_satisfacción[\"satisfacción\"], color =\"blue\", edgecolor = \"black\")\n",
    "ax[1].bar(sof_satisfacción[\"index\"],sof_satisfacción[\"satisfacción\"], color = \"green\", edgecolor = \"black\")\n",
    "ax[0].set_title(\"Satisfacción Hardware\")\n",
    "ax[1]. set_title(\"Satisfacción Software\")\n",
    "ax[0].set_xlabel(\"satisfacción\")\n",
    "ax[1].set_ylabel(\"números ticket\")\n",
    "ax[0].set_ylabel(\"números ticket\") \n",
    "ax[1].set_xlabel(\"satisfacción\")\n",
    "plt.show()"
   ]
  },
  {
   "attachments": {},
   "cell_type": "markdown",
   "metadata": {},
   "source": [
    "Ejercicio 2º Cread un subplot con dos gráficas, dónde en la primera tengamos el número de empleados por departamento y en la otra por tipo de puesto. Debéis:\n",
    "Poner leyenda a la gráfica\n",
    "Cada línea debe ir en un color\n",
    "Ponerle nombre a los ejes y a la gráfica.\n",
    "Poner marcadores a las lineas."
   ]
  },
  {
   "cell_type": "code",
   "execution_count": null,
   "metadata": {},
   "outputs": [],
   "source": [
    "plt.figure()\n",
    "plt.bar()"
   ]
  },
  {
   "attachments": {},
   "cell_type": "markdown",
   "metadata": {},
   "source": [
    "Ejercicio 3º Guardad las figuras creadas en cada caso. Podéis usar el formato que queráis. Guarda todas las fotos en una carpeta llamada Visualizacion-II."
   ]
  }
 ],
 "metadata": {
  "kernelspec": {
   "display_name": "base",
   "language": "python",
   "name": "python3"
  },
  "language_info": {
   "codemirror_mode": {
    "name": "ipython",
    "version": 3
   },
   "file_extension": ".py",
   "mimetype": "text/x-python",
   "name": "python",
   "nbconvert_exporter": "python",
   "pygments_lexer": "ipython3",
   "version": "3.9.7"
  },
  "orig_nbformat": 4
 },
 "nbformat": 4,
 "nbformat_minor": 2
}
