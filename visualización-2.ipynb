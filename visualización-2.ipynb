{
 "cells": [
  {
   "attachments": {},
   "cell_type": "markdown",
   "metadata": {},
   "source": [
    "Ejercicio 1º Ayer creamos un par de gráficas para los tickets de la categoría \"Software\" y \"Hardware\", donde visualizamos el número de clientes que teníamos en cada grupo de satisfacción. Hoy tendréis que hacer dos gráficas con subplots:\n",
    "En la primera debéis mostrar la cantidad de tickets en función del tipo (si es Problema o Solicitud), cada subplot corresponderá a cada una de las categorías. Debéis:\n",
    "-Poner nombre a los ejes de cada uno de los subplots\n",
    "-Poner un títulos a cada uno de los subplots\n",
    "-Poner el color de las líneas en negro.\n",
    "-Establecer el tamaño de la gráfica a 15 x 5\n",
    "-Ponerle marcadores a las gráficas\n",
    "-No incluir leyenda\n",
    "\n"
   ]
  },
  {
   "cell_type": "code",
   "execution_count": 1,
   "metadata": {},
   "outputs": [],
   "source": [
    "import matplotlib.pyplot as plt\n",
    "import numpy as np\n",
    "import pandas as pd"
   ]
  },
  {
   "cell_type": "code",
   "execution_count": 2,
   "metadata": {},
   "outputs": [
    {
     "data": {
      "text/html": [
       "<div>\n",
       "<style scoped>\n",
       "    .dataframe tbody tr th:only-of-type {\n",
       "        vertical-align: middle;\n",
       "    }\n",
       "\n",
       "    .dataframe tbody tr th {\n",
       "        vertical-align: top;\n",
       "    }\n",
       "\n",
       "    .dataframe thead th {\n",
       "        text-align: right;\n",
       "    }\n",
       "</style>\n",
       "<table border=\"1\" class=\"dataframe\">\n",
       "  <thead>\n",
       "    <tr style=\"text-align: right;\">\n",
       "      <th></th>\n",
       "      <th>Unnamed: 0</th>\n",
       "      <th>Turno</th>\n",
       "      <th>ID Empleado</th>\n",
       "      <th>Apellido</th>\n",
       "      <th>Nombre</th>\n",
       "      <th>ID Puesto</th>\n",
       "      <th>Email</th>\n",
       "      <th>Puesto</th>\n",
       "      <th>Departamento</th>\n",
       "      <th>Tipo Puesto</th>\n",
       "    </tr>\n",
       "  </thead>\n",
       "  <tbody>\n",
       "    <tr>\n",
       "      <th>953</th>\n",
       "      <td>953</td>\n",
       "      <td>NaN</td>\n",
       "      <td>89</td>\n",
       "      <td>SANCHEZ</td>\n",
       "      <td>ALFREDO</td>\n",
       "      <td>50-33110</td>\n",
       "      <td>alfredo.sanchez@tractchun.com</td>\n",
       "      <td>Controlador de producción</td>\n",
       "      <td>CONTROL DE PRODUCCION</td>\n",
       "      <td>Mandos Medios</td>\n",
       "    </tr>\n",
       "    <tr>\n",
       "      <th>1496</th>\n",
       "      <td>1496</td>\n",
       "      <td>NaN</td>\n",
       "      <td>1334</td>\n",
       "      <td>CASILLAS</td>\n",
       "      <td>ENRIQUEZ</td>\n",
       "      <td>90-14100</td>\n",
       "      <td>enriquez.casillas@tractchun.com</td>\n",
       "      <td>Ingeniero de Calidad</td>\n",
       "      <td>INGENIERIA DE CALIDAD</td>\n",
       "      <td>Operativo</td>\n",
       "    </tr>\n",
       "    <tr>\n",
       "      <th>1030</th>\n",
       "      <td>1030</td>\n",
       "      <td>NaN</td>\n",
       "      <td>166</td>\n",
       "      <td>Vasquez</td>\n",
       "      <td>Alberto</td>\n",
       "      <td>45-11000</td>\n",
       "      <td>alberto.vasquez@tractchun.com</td>\n",
       "      <td>Supervisor de Aseguramiento de Calidad</td>\n",
       "      <td>INGENIERIA DE CALIDAD</td>\n",
       "      <td>Mandos Medios</td>\n",
       "    </tr>\n",
       "  </tbody>\n",
       "</table>\n",
       "</div>"
      ],
      "text/plain": [
       "      Unnamed: 0 Turno  ID Empleado  Apellido    Nombre ID Puesto  \\\n",
       "953          953   NaN           89   SANCHEZ   ALFREDO  50-33110   \n",
       "1496        1496   NaN         1334  CASILLAS  ENRIQUEZ  90-14100   \n",
       "1030        1030   NaN          166   Vasquez   Alberto  45-11000   \n",
       "\n",
       "                                Email                                  Puesto  \\\n",
       "953     alfredo.sanchez@tractchun.com               Controlador de producción   \n",
       "1496  enriquez.casillas@tractchun.com                    Ingeniero de Calidad   \n",
       "1030    alberto.vasquez@tractchun.com  Supervisor de Aseguramiento de Calidad   \n",
       "\n",
       "               Departamento    Tipo Puesto  \n",
       "953   CONTROL DE PRODUCCION  Mandos Medios  \n",
       "1496  INGENIERIA DE CALIDAD      Operativo  \n",
       "1030  INGENIERIA DE CALIDAD  Mandos Medios  "
      ]
     },
     "execution_count": 2,
     "metadata": {},
     "output_type": "execute_result"
    }
   ],
   "source": [
    "df_ep = pd.read_csv(\"datos/empleados_puestos (1).csv\")\n",
    "df_ep.sample(3)\n"
   ]
  },
  {
   "cell_type": "code",
   "execution_count": 3,
   "metadata": {},
   "outputs": [
    {
     "data": {
      "text/html": [
       "<div>\n",
       "<style scoped>\n",
       "    .dataframe tbody tr th:only-of-type {\n",
       "        vertical-align: middle;\n",
       "    }\n",
       "\n",
       "    .dataframe tbody tr th {\n",
       "        vertical-align: top;\n",
       "    }\n",
       "\n",
       "    .dataframe thead th {\n",
       "        text-align: right;\n",
       "    }\n",
       "</style>\n",
       "<table border=\"1\" class=\"dataframe\">\n",
       "  <thead>\n",
       "    <tr style=\"text-align: right;\">\n",
       "      <th></th>\n",
       "      <th>Unnamed: 0</th>\n",
       "      <th>id_ticket</th>\n",
       "      <th>fecha</th>\n",
       "      <th>id_empleado</th>\n",
       "      <th>id_agente</th>\n",
       "      <th>categoría</th>\n",
       "      <th>tipo</th>\n",
       "      <th>severidad</th>\n",
       "      <th>prioridad</th>\n",
       "      <th>días_resolución</th>\n",
       "      <th>satisfacción</th>\n",
       "      <th>semestre</th>\n",
       "      <th>año</th>\n",
       "    </tr>\n",
       "  </thead>\n",
       "  <tbody>\n",
       "    <tr>\n",
       "      <th>96903</th>\n",
       "      <td>28605</td>\n",
       "      <td>TWLTNR-4044183312</td>\n",
       "      <td>2020-12-18</td>\n",
       "      <td>1201</td>\n",
       "      <td>23</td>\n",
       "      <td>Acceso/Login</td>\n",
       "      <td>Solicitud</td>\n",
       "      <td>2 - Normal</td>\n",
       "      <td>1 - Baja</td>\n",
       "      <td>0</td>\n",
       "      <td>4</td>\n",
       "      <td>2º semestre</td>\n",
       "      <td>2020</td>\n",
       "    </tr>\n",
       "    <tr>\n",
       "      <th>12988</th>\n",
       "      <td>49</td>\n",
       "      <td>GDLEER-5543027902</td>\n",
       "      <td>2017-10-19</td>\n",
       "      <td>380</td>\n",
       "      <td>19</td>\n",
       "      <td>Hardware</td>\n",
       "      <td>Problema</td>\n",
       "      <td>2 - Normal</td>\n",
       "      <td>0 - Sin Asignar</td>\n",
       "      <td>2</td>\n",
       "      <td>1</td>\n",
       "      <td>2º semestre</td>\n",
       "      <td>2017</td>\n",
       "    </tr>\n",
       "    <tr>\n",
       "      <th>79735</th>\n",
       "      <td>11437</td>\n",
       "      <td>KHLENR-5044002956</td>\n",
       "      <td>2020-06-20</td>\n",
       "      <td>715</td>\n",
       "      <td>29</td>\n",
       "      <td>Acceso/Login</td>\n",
       "      <td>Problema</td>\n",
       "      <td>2 - Normal</td>\n",
       "      <td>3 - Alta</td>\n",
       "      <td>3</td>\n",
       "      <td>5</td>\n",
       "      <td>1 semestre</td>\n",
       "      <td>2020</td>\n",
       "    </tr>\n",
       "  </tbody>\n",
       "</table>\n",
       "</div>"
      ],
      "text/plain": [
       "       Unnamed: 0          id_ticket       fecha  id_empleado  id_agente  \\\n",
       "96903       28605  TWLTNR-4044183312  2020-12-18         1201         23   \n",
       "12988          49  GDLEER-5543027902  2017-10-19          380         19   \n",
       "79735       11437  KHLENR-5044002956  2020-06-20          715         29   \n",
       "\n",
       "          categoría       tipo   severidad        prioridad  días_resolución  \\\n",
       "96903  Acceso/Login  Solicitud  2 - Normal         1 - Baja                0   \n",
       "12988      Hardware   Problema  2 - Normal  0 - Sin Asignar                2   \n",
       "79735  Acceso/Login   Problema  2 - Normal         3 - Alta                3   \n",
       "\n",
       "       satisfacción     semestre   año  \n",
       "96903             4  2º semestre  2020  \n",
       "12988             1  2º semestre  2017  \n",
       "79735             5   1 semestre  2020  "
      ]
     },
     "execution_count": 3,
     "metadata": {},
     "output_type": "execute_result"
    }
   ],
   "source": [
    "df_ht= pd.read_csv(\"datos/historico_tickets (1).csv\")\n",
    "df_ht.sample(3)"
   ]
  },
  {
   "cell_type": "code",
   "execution_count": 7,
   "metadata": {},
   "outputs": [
    {
     "data": {
      "text/plain": [
       "Solicitud    73138\n",
       "Problema     24248\n",
       "Name: tipo, dtype: int64"
      ]
     },
     "execution_count": 7,
     "metadata": {},
     "output_type": "execute_result"
    }
   ],
   "source": [
    "sp = df_ht[\"tipo\"].value_counts()\n",
    "sp"
   ]
  },
  {
   "cell_type": "code",
   "execution_count": 15,
   "metadata": {},
   "outputs": [
    {
     "data": {
      "text/html": [
       "<div>\n",
       "<style scoped>\n",
       "    .dataframe tbody tr th:only-of-type {\n",
       "        vertical-align: middle;\n",
       "    }\n",
       "\n",
       "    .dataframe tbody tr th {\n",
       "        vertical-align: top;\n",
       "    }\n",
       "\n",
       "    .dataframe thead th {\n",
       "        text-align: right;\n",
       "    }\n",
       "</style>\n",
       "<table border=\"1\" class=\"dataframe\">\n",
       "  <thead>\n",
       "    <tr style=\"text-align: right;\">\n",
       "      <th></th>\n",
       "      <th>index</th>\n",
       "      <th>tipo</th>\n",
       "    </tr>\n",
       "  </thead>\n",
       "  <tbody>\n",
       "    <tr>\n",
       "      <th>0</th>\n",
       "      <td>Solicitud</td>\n",
       "      <td>73138</td>\n",
       "    </tr>\n",
       "    <tr>\n",
       "      <th>1</th>\n",
       "      <td>Problema</td>\n",
       "      <td>24248</td>\n",
       "    </tr>\n",
       "  </tbody>\n",
       "</table>\n",
       "</div>"
      ],
      "text/plain": [
       "       index   tipo\n",
       "0  Solicitud  73138\n",
       "1   Problema  24248"
      ]
     },
     "execution_count": 15,
     "metadata": {},
     "output_type": "execute_result"
    }
   ],
   "source": [
    "df_sp = pd.DataFrame(sp)\n",
    "df_sp.reset_index(inplace = True)\n",
    "df_sp"
   ]
  },
  {
   "cell_type": "code",
   "execution_count": 24,
   "metadata": {},
   "outputs": [
    {
     "data": {
      "image/png": "[encoded data removed]",
      "text/plain": [
       "<Figure size 1080x360 with 2 Axes>"
      ]
     },
     "metadata": {
      "needs_background": "light"
     },
     "output_type": "display_data"
    }
   ],
   "source": [
    "fig, ax = plt.subplots(1,2, figsize = (15,5))\n",
    "ax[0].bar(df_sp[\"index\"] ,df_sp[\"tipo\"] )\n",
    "plt.show()"
   ]
  },
  {
   "attachments": {},
   "cell_type": "markdown",
   "metadata": {},
   "source": [
    "En la segunda debéis mostrar el número de tickets en función de la satisfacción.\n",
    "-De nuevo tendréis que ponerle nombre a los ejes y título a cada gráfica\n",
    "-En este caso el subplot deberá tener dos filas y una columna\n",
    "-No incluir leyenda\n",
    "-Cambiar el color de las barras\n",
    "\n"
   ]
  },
  {
   "cell_type": "code",
   "execution_count": null,
   "metadata": {},
   "outputs": [],
   "source": []
  },
  {
   "attachments": {},
   "cell_type": "markdown",
   "metadata": {},
   "source": [
    "Ejercicio 2º Cread un único gráfico donde juntéis las gráficas de los tipos de ataques en una sola. Debéis:\n",
    "Poner leyenda a la gráfica\n",
    "Cada línea debe ir en un color\n",
    "Ponerle nombre a los ejes y a la gráfica.\n",
    "Poner marcadores a las lineas."
   ]
  },
  {
   "cell_type": "code",
   "execution_count": null,
   "metadata": {},
   "outputs": [],
   "source": []
  },
  {
   "attachments": {},
   "cell_type": "markdown",
   "metadata": {},
   "source": [
    "Ejercicio 3º Guardad las figuras creadas en cada caso. Podéis usar el formato que queráis. Guarda todas las fotos en una carpeta llamada Visualizacion-II."
   ]
  }
 ],
 "metadata": {
  "kernelspec": {
   "display_name": "base",
   "language": "python",
   "name": "python3"
  },
  "language_info": {
   "codemirror_mode": {
    "name": "ipython",
    "version": 3
   },
   "file_extension": ".py",
   "mimetype": "text/x-python",
   "name": "python",
   "nbconvert_exporter": "python",
   "pygments_lexer": "ipython3",
   "version": "3.9.7"
  },
  "orig_nbformat": 4
 },
 "nbformat": 4,
 "nbformat_minor": 2
}
