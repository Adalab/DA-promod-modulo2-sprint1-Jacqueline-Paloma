{
 "cells": [
  {
   "cell_type": "code",
   "execution_count": 25,
   "metadata": {},
   "outputs": [],
   "source": [
    "import numpy as np\n",
    "import pandas as pd\n"
   ]
  },
  {
   "attachments": {},
   "cell_type": "markdown",
   "metadata": {},
   "source": [
    "Ejercicio1-Cread un array de dos dimensiones de 5 filas y 3 columnas. Sobre el array creado anteriormente, extraed:\n",
    " -El valor de la primera fila y la segunda columna.\n"
   ]
  },
  {
   "cell_type": "code",
   "execution_count": 26,
   "metadata": {},
   "outputs": [
    {
     "name": "stdout",
     "output_type": "stream",
     "text": [
      "[[0.56153125 0.66927805 0.6537926 ]\n",
      " [0.07209907 0.72554582 0.26021165]\n",
      " [0.48174959 0.65768893 0.79820328]\n",
      " [0.71824678 0.55617445 0.86814572]\n",
      " [0.7335052  0.49499387 0.16591643]]\n"
     ]
    }
   ],
   "source": [
    "array = np.random.rand(5,3) \n",
    "print(array)"
   ]
  },
  {
   "cell_type": "code",
   "execution_count": 27,
   "metadata": {},
   "outputs": [
    {
     "data": {
      "text/plain": [
       "0.6692780463446395"
      ]
     },
     "execution_count": 27,
     "metadata": {},
     "output_type": "execute_result"
    }
   ],
   "source": [
    "array[0,1]"
   ]
  },
  {
   "attachments": {},
   "cell_type": "markdown",
   "metadata": {},
   "source": [
    "1.1 Los valores de la segunda fila y las dos primeras columnas."
   ]
  },
  {
   "cell_type": "code",
   "execution_count": 28,
   "metadata": {},
   "outputs": [
    {
     "data": {
      "text/plain": [
       "array([0.07209907, 0.72554582])"
      ]
     },
     "execution_count": 28,
     "metadata": {},
     "output_type": "execute_result"
    }
   ],
   "source": [
    "array[1,:2]"
   ]
  },
  {
   "attachments": {},
   "cell_type": "markdown",
   "metadata": {},
   "source": [
    "1.2 Extraed las filas pares (incluyendo la 0) y todas las columnas."
   ]
  },
  {
   "cell_type": "code",
   "execution_count": 29,
   "metadata": {},
   "outputs": [
    {
     "data": {
      "text/plain": [
       "array([[0.56153125, 0.66927805, 0.6537926 ],\n",
       "       [0.48174959, 0.65768893, 0.79820328],\n",
       "       [0.7335052 , 0.49499387, 0.16591643]])"
      ]
     },
     "execution_count": 29,
     "metadata": {},
     "output_type": "execute_result"
    }
   ],
   "source": [
    "array[::2,:]"
   ]
  },
  {
   "attachments": {},
   "cell_type": "markdown",
   "metadata": {},
   "source": [
    "1.3 Extraed los valores que sean mayores que 0.5."
   ]
  },
  {
   "cell_type": "code",
   "execution_count": 30,
   "metadata": {},
   "outputs": [
    {
     "data": {
      "text/plain": [
       "array([0.56153125, 0.66927805, 0.6537926 , 0.72554582, 0.65768893,\n",
       "       0.79820328, 0.71824678, 0.55617445, 0.86814572, 0.7335052 ])"
      ]
     },
     "execution_count": 30,
     "metadata": {},
     "output_type": "execute_result"
    }
   ],
   "source": [
    "array[array > 0.5]"
   ]
  },
  {
   "attachments": {},
   "cell_type": "markdown",
   "metadata": {},
   "source": [
    "1.4 Extraed los valores menores que 0.2 o mayores que 0.5"
   ]
  },
  {
   "cell_type": "code",
   "execution_count": 31,
   "metadata": {},
   "outputs": [
    {
     "data": {
      "text/plain": [
       "array([0.56153125, 0.66927805, 0.6537926 , 0.07209907, 0.72554582,\n",
       "       0.65768893, 0.79820328, 0.71824678, 0.55617445, 0.86814572,\n",
       "       0.7335052 , 0.16591643])"
      ]
     },
     "execution_count": 31,
     "metadata": {},
     "output_type": "execute_result"
    }
   ],
   "source": [
    "array[(array<0.2)|(array>0.5)]"
   ]
  },
  {
   "attachments": {},
   "cell_type": "markdown",
   "metadata": {},
   "source": [
    "Ejercicio2-Cread dos array de tres dimensiones:"
   ]
  },
  {
   "attachments": {},
   "cell_type": "markdown",
   "metadata": {},
   "source": [
    "2.1 El primero de 2 matrices, 5 filas y 3 columnas."
   ]
  },
  {
   "cell_type": "code",
   "execution_count": 33,
   "metadata": {},
   "outputs": [
    {
     "name": "stdout",
     "output_type": "stream",
     "text": [
      "[[[1 7 5]\n",
      "  [7 5 3]\n",
      "  [4 4 6]\n",
      "  [6 3 3]\n",
      "  [0 3 7]]\n",
      "\n",
      " [[3 5 5]\n",
      "  [0 4 2]\n",
      "  [7 6 5]\n",
      "  [2 4 7]\n",
      "  [1 7 5]]]\n"
     ]
    }
   ],
   "source": [
    "array1 = np.random.randint(0,9,(2,5,3))\n",
    "print(array1)"
   ]
  },
  {
   "attachments": {},
   "cell_type": "markdown",
   "metadata": {},
   "source": [
    "2.2 El segundo de 3 matrices, 2 filas y 5 columnas"
   ]
  },
  {
   "cell_type": "code",
   "execution_count": 34,
   "metadata": {},
   "outputs": [
    {
     "name": "stdout",
     "output_type": "stream",
     "text": [
      "[[[1 0 6 4 3]\n",
      "  [4 4 3 4 7]]\n",
      "\n",
      " [[5 7 7 0 3]\n",
      "  [2 1 2 8 4]]\n",
      "\n",
      " [[8 8 2 0 5]\n",
      "  [0 2 7 3 6]]]\n"
     ]
    }
   ],
   "source": [
    "array2 = np.random.randint(0,9,(3,2,5))\n",
    "print(array2)"
   ]
  },
  {
   "attachments": {},
   "cell_type": "markdown",
   "metadata": {},
   "source": [
    "2.3 Haced un análisis exploratorio de los array creados. Recordad que en el ejercicio de ayer nos creamos una función para esto."
   ]
  },
  {
   "cell_type": "code",
   "execution_count": 40,
   "metadata": {},
   "outputs": [],
   "source": [
    "def analisis(miarray):\n",
    "    return miarray.shape, miarray.size, miarray.dtype\n",
    "    \n",
    "    "
   ]
  },
  {
   "cell_type": "code",
   "execution_count": 43,
   "metadata": {},
   "outputs": [
    {
     "name": "stdout",
     "output_type": "stream",
     "text": [
      "((2, 5, 3), 30, dtype('int64'))\n"
     ]
    },
    {
     "data": {
      "text/plain": [
       "((3, 2, 5), 30, dtype('int64'))"
      ]
     },
     "execution_count": 43,
     "metadata": {},
     "output_type": "execute_result"
    }
   ],
   "source": [
    "print(analisis(array1))\n",
    "\n",
    "analisis(array2)"
   ]
  },
  {
   "attachments": {},
   "cell_type": "markdown",
   "metadata": {},
   "source": [
    "2.4 Sumad los dos arrays. ¿Podéis? ¿Por qué?"
   ]
  },
  {
   "cell_type": "code",
   "execution_count": null,
   "metadata": {},
   "outputs": [],
   "source": [
    "# no se puede porque no tienen la fisma forma."
   ]
  },
  {
   "attachments": {},
   "cell_type": "markdown",
   "metadata": {},
   "source": [
    "2.5 Para cambiar la forma de un array y poder hacer operaciones entre arrays que tienen distintas formas hemos aprendido dos métodos:\n",
    "reshape()\n",
    "transpose()"
   ]
  },
  {
   "cell_type": "code",
   "execution_count": 47,
   "metadata": {},
   "outputs": [
    {
     "name": "stdout",
     "output_type": "stream",
     "text": [
      "[[[1 5 8]\n",
      "  [0 7 8]\n",
      "  [6 7 2]\n",
      "  [4 0 0]\n",
      "  [3 3 5]]\n",
      "\n",
      " [[4 2 0]\n",
      "  [4 1 2]\n",
      "  [3 2 7]\n",
      "  [4 8 3]\n",
      "  [7 4 6]]]\n"
     ]
    }
   ],
   "source": [
    "array3 = np.transpose(array2,(1,2,0))\n",
    "print(array3)"
   ]
  },
  {
   "attachments": {},
   "cell_type": "markdown",
   "metadata": {},
   "source": [
    "2.6 Utiliza estas dos funciones para cambiar la forma de los array y hacer operaciones entre ellos."
   ]
  },
  {
   "cell_type": "code",
   "execution_count": 49,
   "metadata": {},
   "outputs": [
    {
     "name": "stdout",
     "output_type": "stream",
     "text": [
      "[[[ 2 12 13]\n",
      "  [ 7 12 11]\n",
      "  [10 11  8]\n",
      "  [10  3  3]\n",
      "  [ 3  6 12]]\n",
      "\n",
      " [[ 7  7  5]\n",
      "  [ 4  5  4]\n",
      "  [10  8 12]\n",
      "  [ 6 12 10]\n",
      "  [ 8 11 11]]]\n"
     ]
    }
   ],
   "source": [
    "suma= np.add(array1,array3)\n",
    "print(suma)"
   ]
  },
  {
   "cell_type": "code",
   "execution_count": 51,
   "metadata": {},
   "outputs": [
    {
     "name": "stdout",
     "output_type": "stream",
     "text": [
      "[[[ 0  2 -3]\n",
      "  [ 7 -2 -5]\n",
      "  [-2 -3  4]\n",
      "  [ 2  3  3]\n",
      "  [-3  0  2]]\n",
      "\n",
      " [[-1  3  5]\n",
      "  [-4  3  0]\n",
      "  [ 4  4 -2]\n",
      "  [-2 -4  4]\n",
      "  [-6  3 -1]]]\n"
     ]
    }
   ],
   "source": [
    "resta = np.subtract(array1,array3)\n",
    "print(resta)"
   ]
  }
 ],
 "metadata": {
  "kernelspec": {
   "display_name": "base",
   "language": "python",
   "name": "python3"
  },
  "language_info": {
   "codemirror_mode": {
    "name": "ipython",
    "version": 3
   },
   "file_extension": ".py",
   "mimetype": "text/x-python",
   "name": "python",
   "nbconvert_exporter": "python",
   "pygments_lexer": "ipython3",
   "version": "3.9.7"
  },
  "orig_nbformat": 4
 },
 "nbformat": 4,
 "nbformat_minor": 2
}
