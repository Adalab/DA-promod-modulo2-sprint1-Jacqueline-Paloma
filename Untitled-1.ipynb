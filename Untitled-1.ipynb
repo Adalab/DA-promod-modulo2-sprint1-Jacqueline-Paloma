{
 "cells": [
  {
   "cell_type": "code",
   "execution_count": 1,
   "metadata": {},
   "outputs": [],
   "source": [
    "import pandas as pd\n",
    "import numpy as np"
   ]
  },
  {
   "attachments": {},
   "cell_type": "markdown",
   "metadata": {},
   "source": [
    "1 ¿Qué diferencia hay entre una serie y un dataframe?\n",
    "Serie: es  columnas (una dimesión)\n",
    "dataframe : es una estructura de datos multidimensional.\n"
   ]
  },
  {
   "attachments": {},
   "cell_type": "markdown",
   "metadata": {},
   "source": [
    "Crea dos listas:\n",
    "Una que se llame \"valores\" que tenga 7 números aleatorios.\n",
    "Otra que se llame \"indices\" que tenga 7 strings que se llamen como los días de la semana."
   ]
  },
  {
   "cell_type": "code",
   "execution_count": 2,
   "metadata": {},
   "outputs": [],
   "source": [
    "valores=[7,5,9,3,11,15,20]\n",
    "indices=[\"lunes\",\"martes\",\"miercoles\",\"jueves\",\"viernes\",\"sabado\",\"domingo\"]"
   ]
  },
  {
   "cell_type": "code",
   "execution_count": 3,
   "metadata": {},
   "outputs": [
    {
     "name": "stdout",
     "output_type": "stream",
     "text": [
      "lunes         7\n",
      "martes        5\n",
      "miercoles     9\n",
      "jueves        3\n",
      "viernes      11\n",
      "sabado       15\n",
      "domingo      20\n",
      "dtype: int64\n"
     ]
    }
   ],
   "source": [
    "#A partir de estas dos listas cread una Serie donde la variable \"valores\" sean los valores de la Serie y la variable indices sean los índices de la Serie.\n",
    "\n",
    "serie1=pd.Series(valores,index=indices)\n",
    "print(serie1)"
   ]
  },
  {
   "cell_type": "code",
   "execution_count": 4,
   "metadata": {},
   "outputs": [
    {
     "name": "stdout",
     "output_type": "stream",
     "text": [
      "[('lunes', 7), ('martes', 5), ('miercoles', 9), ('jueves', 3), ('viernes', 11), ('sabado', 15), ('domingo', 20)]\n"
     ]
    }
   ],
   "source": [
    "#A partir de las dos listas anteriores cread un diccionario usando un bucle for. Para hacer esto tenemos el método zip que nos permite iterar por dos listas a la vez. Más informción \n",
    "\n",
    "zip1=list(zip(indices,valores))\n",
    "print(zip1)"
   ]
  },
  {
   "cell_type": "code",
   "execution_count": 5,
   "metadata": {},
   "outputs": [
    {
     "name": "stdout",
     "output_type": "stream",
     "text": [
      "{'lunes': 7, 'martes': 5, 'miercoles': 9, 'jueves': 3, 'viernes': 11, 'sabado': 15, 'domingo': 20}\n"
     ]
    }
   ],
   "source": [
    "diccionario = {}\n",
    "for i, v, in zip1:\n",
    "    diccionario[i]=v\n",
    "print(diccionario)\n",
    "    \n",
    "    "
   ]
  },
  {
   "cell_type": "code",
   "execution_count": 6,
   "metadata": {},
   "outputs": [
    {
     "name": "stdout",
     "output_type": "stream",
     "text": [
      "lunes         7\n",
      "martes        5\n",
      "miercoles     9\n",
      "jueves        3\n",
      "viernes      11\n",
      "sabado       15\n",
      "domingo      20\n",
      "dtype: int64\n"
     ]
    }
   ],
   "source": [
    "#Crea una Serie con el diccionario creado en el punto anterior.\n",
    "\n",
    "serie2=pd.Series(diccionario)\n",
    "print(serie2)\n",
    "# nos salen iguales porque con el zip ordemanos los indices y los values para que nos diera un resultado ordenado."
   ]
  },
  {
   "cell_type": "code",
   "execution_count": 7,
   "metadata": {},
   "outputs": [
    {
     "name": "stdout",
     "output_type": "stream",
     "text": [
      "7\n",
      "(7,)\n",
      "int64\n"
     ]
    }
   ],
   "source": [
    "# que tamaño tiene?\n",
    "#¿Qué forma tiene esta última Serie?\n",
    "# que tipo de datos tiene?\n",
    "serie2\n",
    "print(serie2.size)\n",
    "print(serie2.shape)\n",
    "print(serie2.dtypes)"
   ]
  },
  {
   "cell_type": "code",
   "execution_count": 8,
   "metadata": {},
   "outputs": [
    {
     "data": {
      "text/plain": [
       "7"
      ]
     },
     "execution_count": 8,
     "metadata": {},
     "output_type": "execute_result"
    }
   ],
   "source": [
    "#Extraed el valor para el índice \"lunes\"\n",
    "serie2[\"lunes\"]"
   ]
  },
  {
   "cell_type": "code",
   "execution_count": 9,
   "metadata": {},
   "outputs": [
    {
     "data": {
      "text/plain": [
       "lunes        7\n",
       "martes       5\n",
       "miercoles    9\n",
       "dtype: int64"
      ]
     },
     "execution_count": 9,
     "metadata": {},
     "output_type": "execute_result"
    }
   ],
   "source": [
    "#Extraed el valor para el índice \"lunes\", \"martes\" y \"miércoles\".\n",
    "serie2[\"lunes\":\"miercoles\"]"
   ]
  },
  {
   "cell_type": "code",
   "execution_count": 15,
   "metadata": {},
   "outputs": [
    {
     "data": {
      "text/plain": [
       "lunes       7\n",
       "domingo    20\n",
       "dtype: int64"
      ]
     },
     "execution_count": 15,
     "metadata": {},
     "output_type": "execute_result"
    }
   ],
   "source": [
    "#Extraed el valor para el índice \"lunes\" y \"domingo\".\n",
    "serie2[[\"lunes\",\"domingo\"]]"
   ]
  },
  {
   "attachments": {},
   "cell_type": "markdown",
   "metadata": {},
   "source": [
    "ejercicio3 Es el turno de los DataFrames:\n",
    "Cread un array de dos dimensiones con 4 filas y 3 columnas."
   ]
  },
  {
   "cell_type": "code",
   "execution_count": null,
   "metadata": {},
   "outputs": [],
   "source": []
  }
 ],
 "metadata": {
  "kernelspec": {
   "display_name": "base",
   "language": "python",
   "name": "python3"
  },
  "language_info": {
   "codemirror_mode": {
    "name": "ipython",
    "version": 3
   },
   "file_extension": ".py",
   "mimetype": "text/x-python",
   "name": "python",
   "nbconvert_exporter": "python",
   "pygments_lexer": "ipython3",
   "version": "3.9.7"
  },
  "orig_nbformat": 4
 },
 "nbformat": 4,
 "nbformat_minor": 2
}
